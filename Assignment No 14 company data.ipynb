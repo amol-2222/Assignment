{
 "cells": [
  {
   "cell_type": "markdown",
   "id": "71507031",
   "metadata": {},
   "source": [
    "A cloth manufacturing company is interested to know about the segment or attributes causes high sale. \n",
    "Approach - A decision tree can be built with target variable Sale (we will first convert it in categorical variable) & all other variable will be independent in the analysis.  \n"
   ]
  },
  {
   "cell_type": "code",
   "execution_count": 1,
   "id": "c9d02857",
   "metadata": {
    "ExecuteTime": {
     "end_time": "2023-05-07T14:50:50.121128Z",
     "start_time": "2023-05-07T14:50:45.555264Z"
    }
   },
   "outputs": [],
   "source": [
    "import pandas as pd\n",
    "import matplotlib.pyplot as plt\n",
    "import seaborn as sns\n",
    "from sklearn.model_selection import train_test_split\n",
    "from sklearn.metrics import classification_report,confusion_matrix\n",
    "from sklearn.tree import DecisionTreeClassifier\n"
   ]
  },
  {
   "cell_type": "code",
   "execution_count": 2,
   "id": "0e067d7a",
   "metadata": {
    "ExecuteTime": {
     "end_time": "2023-05-07T14:50:50.192045Z",
     "start_time": "2023-05-07T14:50:50.127576Z"
    }
   },
   "outputs": [
    {
     "data": {
      "text/html": [
       "<div>\n",
       "<style scoped>\n",
       "    .dataframe tbody tr th:only-of-type {\n",
       "        vertical-align: middle;\n",
       "    }\n",
       "\n",
       "    .dataframe tbody tr th {\n",
       "        vertical-align: top;\n",
       "    }\n",
       "\n",
       "    .dataframe thead th {\n",
       "        text-align: right;\n",
       "    }\n",
       "</style>\n",
       "<table border=\"1\" class=\"dataframe\">\n",
       "  <thead>\n",
       "    <tr style=\"text-align: right;\">\n",
       "      <th></th>\n",
       "      <th>Sales</th>\n",
       "      <th>CompPrice</th>\n",
       "      <th>Income</th>\n",
       "      <th>Advertising</th>\n",
       "      <th>Population</th>\n",
       "      <th>Price</th>\n",
       "      <th>ShelveLoc</th>\n",
       "      <th>Age</th>\n",
       "      <th>Education</th>\n",
       "      <th>Urban</th>\n",
       "      <th>US</th>\n",
       "    </tr>\n",
       "  </thead>\n",
       "  <tbody>\n",
       "    <tr>\n",
       "      <th>0</th>\n",
       "      <td>9.50</td>\n",
       "      <td>138</td>\n",
       "      <td>73</td>\n",
       "      <td>11</td>\n",
       "      <td>276</td>\n",
       "      <td>120</td>\n",
       "      <td>Bad</td>\n",
       "      <td>42</td>\n",
       "      <td>17</td>\n",
       "      <td>Yes</td>\n",
       "      <td>Yes</td>\n",
       "    </tr>\n",
       "    <tr>\n",
       "      <th>1</th>\n",
       "      <td>11.22</td>\n",
       "      <td>111</td>\n",
       "      <td>48</td>\n",
       "      <td>16</td>\n",
       "      <td>260</td>\n",
       "      <td>83</td>\n",
       "      <td>Good</td>\n",
       "      <td>65</td>\n",
       "      <td>10</td>\n",
       "      <td>Yes</td>\n",
       "      <td>Yes</td>\n",
       "    </tr>\n",
       "    <tr>\n",
       "      <th>2</th>\n",
       "      <td>10.06</td>\n",
       "      <td>113</td>\n",
       "      <td>35</td>\n",
       "      <td>10</td>\n",
       "      <td>269</td>\n",
       "      <td>80</td>\n",
       "      <td>Medium</td>\n",
       "      <td>59</td>\n",
       "      <td>12</td>\n",
       "      <td>Yes</td>\n",
       "      <td>Yes</td>\n",
       "    </tr>\n",
       "    <tr>\n",
       "      <th>3</th>\n",
       "      <td>7.40</td>\n",
       "      <td>117</td>\n",
       "      <td>100</td>\n",
       "      <td>4</td>\n",
       "      <td>466</td>\n",
       "      <td>97</td>\n",
       "      <td>Medium</td>\n",
       "      <td>55</td>\n",
       "      <td>14</td>\n",
       "      <td>Yes</td>\n",
       "      <td>Yes</td>\n",
       "    </tr>\n",
       "    <tr>\n",
       "      <th>4</th>\n",
       "      <td>4.15</td>\n",
       "      <td>141</td>\n",
       "      <td>64</td>\n",
       "      <td>3</td>\n",
       "      <td>340</td>\n",
       "      <td>128</td>\n",
       "      <td>Bad</td>\n",
       "      <td>38</td>\n",
       "      <td>13</td>\n",
       "      <td>Yes</td>\n",
       "      <td>No</td>\n",
       "    </tr>\n",
       "    <tr>\n",
       "      <th>...</th>\n",
       "      <td>...</td>\n",
       "      <td>...</td>\n",
       "      <td>...</td>\n",
       "      <td>...</td>\n",
       "      <td>...</td>\n",
       "      <td>...</td>\n",
       "      <td>...</td>\n",
       "      <td>...</td>\n",
       "      <td>...</td>\n",
       "      <td>...</td>\n",
       "      <td>...</td>\n",
       "    </tr>\n",
       "    <tr>\n",
       "      <th>395</th>\n",
       "      <td>12.57</td>\n",
       "      <td>138</td>\n",
       "      <td>108</td>\n",
       "      <td>17</td>\n",
       "      <td>203</td>\n",
       "      <td>128</td>\n",
       "      <td>Good</td>\n",
       "      <td>33</td>\n",
       "      <td>14</td>\n",
       "      <td>Yes</td>\n",
       "      <td>Yes</td>\n",
       "    </tr>\n",
       "    <tr>\n",
       "      <th>396</th>\n",
       "      <td>6.14</td>\n",
       "      <td>139</td>\n",
       "      <td>23</td>\n",
       "      <td>3</td>\n",
       "      <td>37</td>\n",
       "      <td>120</td>\n",
       "      <td>Medium</td>\n",
       "      <td>55</td>\n",
       "      <td>11</td>\n",
       "      <td>No</td>\n",
       "      <td>Yes</td>\n",
       "    </tr>\n",
       "    <tr>\n",
       "      <th>397</th>\n",
       "      <td>7.41</td>\n",
       "      <td>162</td>\n",
       "      <td>26</td>\n",
       "      <td>12</td>\n",
       "      <td>368</td>\n",
       "      <td>159</td>\n",
       "      <td>Medium</td>\n",
       "      <td>40</td>\n",
       "      <td>18</td>\n",
       "      <td>Yes</td>\n",
       "      <td>Yes</td>\n",
       "    </tr>\n",
       "    <tr>\n",
       "      <th>398</th>\n",
       "      <td>5.94</td>\n",
       "      <td>100</td>\n",
       "      <td>79</td>\n",
       "      <td>7</td>\n",
       "      <td>284</td>\n",
       "      <td>95</td>\n",
       "      <td>Bad</td>\n",
       "      <td>50</td>\n",
       "      <td>12</td>\n",
       "      <td>Yes</td>\n",
       "      <td>Yes</td>\n",
       "    </tr>\n",
       "    <tr>\n",
       "      <th>399</th>\n",
       "      <td>9.71</td>\n",
       "      <td>134</td>\n",
       "      <td>37</td>\n",
       "      <td>0</td>\n",
       "      <td>27</td>\n",
       "      <td>120</td>\n",
       "      <td>Good</td>\n",
       "      <td>49</td>\n",
       "      <td>16</td>\n",
       "      <td>Yes</td>\n",
       "      <td>Yes</td>\n",
       "    </tr>\n",
       "  </tbody>\n",
       "</table>\n",
       "<p>400 rows × 11 columns</p>\n",
       "</div>"
      ],
      "text/plain": [
       "     Sales  CompPrice  Income  Advertising  Population  Price ShelveLoc  Age  \\\n",
       "0     9.50        138      73           11         276    120       Bad   42   \n",
       "1    11.22        111      48           16         260     83      Good   65   \n",
       "2    10.06        113      35           10         269     80    Medium   59   \n",
       "3     7.40        117     100            4         466     97    Medium   55   \n",
       "4     4.15        141      64            3         340    128       Bad   38   \n",
       "..     ...        ...     ...          ...         ...    ...       ...  ...   \n",
       "395  12.57        138     108           17         203    128      Good   33   \n",
       "396   6.14        139      23            3          37    120    Medium   55   \n",
       "397   7.41        162      26           12         368    159    Medium   40   \n",
       "398   5.94        100      79            7         284     95       Bad   50   \n",
       "399   9.71        134      37            0          27    120      Good   49   \n",
       "\n",
       "     Education Urban   US  \n",
       "0           17   Yes  Yes  \n",
       "1           10   Yes  Yes  \n",
       "2           12   Yes  Yes  \n",
       "3           14   Yes  Yes  \n",
       "4           13   Yes   No  \n",
       "..         ...   ...  ...  \n",
       "395         14   Yes  Yes  \n",
       "396         11    No  Yes  \n",
       "397         18   Yes  Yes  \n",
       "398         12   Yes  Yes  \n",
       "399         16   Yes  Yes  \n",
       "\n",
       "[400 rows x 11 columns]"
      ]
     },
     "execution_count": 2,
     "metadata": {},
     "output_type": "execute_result"
    }
   ],
   "source": [
    "df=pd.read_csv('Company_Data.csv')\n",
    "df"
   ]
  },
  {
   "cell_type": "code",
   "execution_count": 3,
   "id": "11586fe3",
   "metadata": {
    "ExecuteTime": {
     "end_time": "2023-05-07T14:50:50.348242Z",
     "start_time": "2023-05-07T14:50:50.192045Z"
    }
   },
   "outputs": [
    {
     "name": "stdout",
     "output_type": "stream",
     "text": [
      "<class 'pandas.core.frame.DataFrame'>\n",
      "RangeIndex: 400 entries, 0 to 399\n",
      "Data columns (total 11 columns):\n",
      " #   Column       Non-Null Count  Dtype  \n",
      "---  ------       --------------  -----  \n",
      " 0   Sales        400 non-null    float64\n",
      " 1   CompPrice    400 non-null    int64  \n",
      " 2   Income       400 non-null    int64  \n",
      " 3   Advertising  400 non-null    int64  \n",
      " 4   Population   400 non-null    int64  \n",
      " 5   Price        400 non-null    int64  \n",
      " 6   ShelveLoc    400 non-null    object \n",
      " 7   Age          400 non-null    int64  \n",
      " 8   Education    400 non-null    int64  \n",
      " 9   Urban        400 non-null    object \n",
      " 10  US           400 non-null    object \n",
      "dtypes: float64(1), int64(7), object(3)\n",
      "memory usage: 34.5+ KB\n"
     ]
    }
   ],
   "source": [
    "df.info()"
   ]
  },
  {
   "cell_type": "code",
   "execution_count": 4,
   "id": "5b689b30",
   "metadata": {
    "ExecuteTime": {
     "end_time": "2023-05-07T14:50:50.474949Z",
     "start_time": "2023-05-07T14:50:50.369488Z"
    }
   },
   "outputs": [
    {
     "data": {
      "text/html": [
       "<div>\n",
       "<style scoped>\n",
       "    .dataframe tbody tr th:only-of-type {\n",
       "        vertical-align: middle;\n",
       "    }\n",
       "\n",
       "    .dataframe tbody tr th {\n",
       "        vertical-align: top;\n",
       "    }\n",
       "\n",
       "    .dataframe thead th {\n",
       "        text-align: right;\n",
       "    }\n",
       "</style>\n",
       "<table border=\"1\" class=\"dataframe\">\n",
       "  <thead>\n",
       "    <tr style=\"text-align: right;\">\n",
       "      <th></th>\n",
       "      <th>Sales</th>\n",
       "      <th>CompPrice</th>\n",
       "      <th>Income</th>\n",
       "      <th>Advertising</th>\n",
       "      <th>Population</th>\n",
       "      <th>Price</th>\n",
       "      <th>Age</th>\n",
       "      <th>Education</th>\n",
       "    </tr>\n",
       "  </thead>\n",
       "  <tbody>\n",
       "    <tr>\n",
       "      <th>count</th>\n",
       "      <td>400.000000</td>\n",
       "      <td>400.000000</td>\n",
       "      <td>400.000000</td>\n",
       "      <td>400.000000</td>\n",
       "      <td>400.000000</td>\n",
       "      <td>400.000000</td>\n",
       "      <td>400.000000</td>\n",
       "      <td>400.000000</td>\n",
       "    </tr>\n",
       "    <tr>\n",
       "      <th>mean</th>\n",
       "      <td>7.496325</td>\n",
       "      <td>124.975000</td>\n",
       "      <td>68.657500</td>\n",
       "      <td>6.635000</td>\n",
       "      <td>264.840000</td>\n",
       "      <td>115.795000</td>\n",
       "      <td>53.322500</td>\n",
       "      <td>13.900000</td>\n",
       "    </tr>\n",
       "    <tr>\n",
       "      <th>std</th>\n",
       "      <td>2.824115</td>\n",
       "      <td>15.334512</td>\n",
       "      <td>27.986037</td>\n",
       "      <td>6.650364</td>\n",
       "      <td>147.376436</td>\n",
       "      <td>23.676664</td>\n",
       "      <td>16.200297</td>\n",
       "      <td>2.620528</td>\n",
       "    </tr>\n",
       "    <tr>\n",
       "      <th>min</th>\n",
       "      <td>0.000000</td>\n",
       "      <td>77.000000</td>\n",
       "      <td>21.000000</td>\n",
       "      <td>0.000000</td>\n",
       "      <td>10.000000</td>\n",
       "      <td>24.000000</td>\n",
       "      <td>25.000000</td>\n",
       "      <td>10.000000</td>\n",
       "    </tr>\n",
       "    <tr>\n",
       "      <th>25%</th>\n",
       "      <td>5.390000</td>\n",
       "      <td>115.000000</td>\n",
       "      <td>42.750000</td>\n",
       "      <td>0.000000</td>\n",
       "      <td>139.000000</td>\n",
       "      <td>100.000000</td>\n",
       "      <td>39.750000</td>\n",
       "      <td>12.000000</td>\n",
       "    </tr>\n",
       "    <tr>\n",
       "      <th>50%</th>\n",
       "      <td>7.490000</td>\n",
       "      <td>125.000000</td>\n",
       "      <td>69.000000</td>\n",
       "      <td>5.000000</td>\n",
       "      <td>272.000000</td>\n",
       "      <td>117.000000</td>\n",
       "      <td>54.500000</td>\n",
       "      <td>14.000000</td>\n",
       "    </tr>\n",
       "    <tr>\n",
       "      <th>75%</th>\n",
       "      <td>9.320000</td>\n",
       "      <td>135.000000</td>\n",
       "      <td>91.000000</td>\n",
       "      <td>12.000000</td>\n",
       "      <td>398.500000</td>\n",
       "      <td>131.000000</td>\n",
       "      <td>66.000000</td>\n",
       "      <td>16.000000</td>\n",
       "    </tr>\n",
       "    <tr>\n",
       "      <th>max</th>\n",
       "      <td>16.270000</td>\n",
       "      <td>175.000000</td>\n",
       "      <td>120.000000</td>\n",
       "      <td>29.000000</td>\n",
       "      <td>509.000000</td>\n",
       "      <td>191.000000</td>\n",
       "      <td>80.000000</td>\n",
       "      <td>18.000000</td>\n",
       "    </tr>\n",
       "  </tbody>\n",
       "</table>\n",
       "</div>"
      ],
      "text/plain": [
       "            Sales   CompPrice      Income  Advertising  Population  \\\n",
       "count  400.000000  400.000000  400.000000   400.000000  400.000000   \n",
       "mean     7.496325  124.975000   68.657500     6.635000  264.840000   \n",
       "std      2.824115   15.334512   27.986037     6.650364  147.376436   \n",
       "min      0.000000   77.000000   21.000000     0.000000   10.000000   \n",
       "25%      5.390000  115.000000   42.750000     0.000000  139.000000   \n",
       "50%      7.490000  125.000000   69.000000     5.000000  272.000000   \n",
       "75%      9.320000  135.000000   91.000000    12.000000  398.500000   \n",
       "max     16.270000  175.000000  120.000000    29.000000  509.000000   \n",
       "\n",
       "            Price         Age   Education  \n",
       "count  400.000000  400.000000  400.000000  \n",
       "mean   115.795000   53.322500   13.900000  \n",
       "std     23.676664   16.200297    2.620528  \n",
       "min     24.000000   25.000000   10.000000  \n",
       "25%    100.000000   39.750000   12.000000  \n",
       "50%    117.000000   54.500000   14.000000  \n",
       "75%    131.000000   66.000000   16.000000  \n",
       "max    191.000000   80.000000   18.000000  "
      ]
     },
     "execution_count": 4,
     "metadata": {},
     "output_type": "execute_result"
    }
   ],
   "source": [
    "df.describe()"
   ]
  },
  {
   "cell_type": "code",
   "execution_count": 5,
   "id": "b4b4fa9b",
   "metadata": {
    "ExecuteTime": {
     "end_time": "2023-05-07T14:50:50.549028Z",
     "start_time": "2023-05-07T14:50:50.486944Z"
    }
   },
   "outputs": [
    {
     "data": {
      "text/plain": [
       "Sales          0\n",
       "CompPrice      0\n",
       "Income         0\n",
       "Advertising    0\n",
       "Population     0\n",
       "Price          0\n",
       "ShelveLoc      0\n",
       "Age            0\n",
       "Education      0\n",
       "Urban          0\n",
       "US             0\n",
       "dtype: int64"
      ]
     },
     "execution_count": 5,
     "metadata": {},
     "output_type": "execute_result"
    }
   ],
   "source": [
    "df.isna().sum()"
   ]
  },
  {
   "cell_type": "code",
   "execution_count": 6,
   "id": "a8f1a0ef",
   "metadata": {
    "ExecuteTime": {
     "end_time": "2023-05-07T14:50:52.191342Z",
     "start_time": "2023-05-07T14:50:50.559023Z"
    }
   },
   "outputs": [
    {
     "data": {
      "image/png": "[encoded data removed]",
      "text/plain": [
       "<Figure size 640x480 with 9 Axes>"
      ]
     },
     "metadata": {},
     "output_type": "display_data"
    }
   ],
   "source": [
    "df.hist()\n",
    "plt.tight_layout()"
   ]
  },
  {
   "cell_type": "code",
   "execution_count": 7,
   "id": "72d2a09b",
   "metadata": {
    "ExecuteTime": {
     "end_time": "2023-05-07T14:50:52.234301Z",
     "start_time": "2023-05-07T14:50:52.202316Z"
    }
   },
   "outputs": [
    {
     "data": {
      "text/html": [
       "<div>\n",
       "<style scoped>\n",
       "    .dataframe tbody tr th:only-of-type {\n",
       "        vertical-align: middle;\n",
       "    }\n",
       "\n",
       "    .dataframe tbody tr th {\n",
       "        vertical-align: top;\n",
       "    }\n",
       "\n",
       "    .dataframe thead th {\n",
       "        text-align: right;\n",
       "    }\n",
       "</style>\n",
       "<table border=\"1\" class=\"dataframe\">\n",
       "  <thead>\n",
       "    <tr style=\"text-align: right;\">\n",
       "      <th></th>\n",
       "      <th>Sales</th>\n",
       "      <th>CompPrice</th>\n",
       "      <th>Income</th>\n",
       "      <th>Advertising</th>\n",
       "      <th>Population</th>\n",
       "      <th>Price</th>\n",
       "      <th>Age</th>\n",
       "      <th>Education</th>\n",
       "    </tr>\n",
       "  </thead>\n",
       "  <tbody>\n",
       "    <tr>\n",
       "      <th>Sales</th>\n",
       "      <td>1.000000</td>\n",
       "      <td>0.064079</td>\n",
       "      <td>0.151951</td>\n",
       "      <td>0.269507</td>\n",
       "      <td>0.050471</td>\n",
       "      <td>-0.444951</td>\n",
       "      <td>-0.231815</td>\n",
       "      <td>-0.051955</td>\n",
       "    </tr>\n",
       "    <tr>\n",
       "      <th>CompPrice</th>\n",
       "      <td>0.064079</td>\n",
       "      <td>1.000000</td>\n",
       "      <td>-0.080653</td>\n",
       "      <td>-0.024199</td>\n",
       "      <td>-0.094707</td>\n",
       "      <td>0.584848</td>\n",
       "      <td>-0.100239</td>\n",
       "      <td>0.025197</td>\n",
       "    </tr>\n",
       "    <tr>\n",
       "      <th>Income</th>\n",
       "      <td>0.151951</td>\n",
       "      <td>-0.080653</td>\n",
       "      <td>1.000000</td>\n",
       "      <td>0.058995</td>\n",
       "      <td>-0.007877</td>\n",
       "      <td>-0.056698</td>\n",
       "      <td>-0.004670</td>\n",
       "      <td>-0.056855</td>\n",
       "    </tr>\n",
       "    <tr>\n",
       "      <th>Advertising</th>\n",
       "      <td>0.269507</td>\n",
       "      <td>-0.024199</td>\n",
       "      <td>0.058995</td>\n",
       "      <td>1.000000</td>\n",
       "      <td>0.265652</td>\n",
       "      <td>0.044537</td>\n",
       "      <td>-0.004557</td>\n",
       "      <td>-0.033594</td>\n",
       "    </tr>\n",
       "    <tr>\n",
       "      <th>Population</th>\n",
       "      <td>0.050471</td>\n",
       "      <td>-0.094707</td>\n",
       "      <td>-0.007877</td>\n",
       "      <td>0.265652</td>\n",
       "      <td>1.000000</td>\n",
       "      <td>-0.012144</td>\n",
       "      <td>-0.042663</td>\n",
       "      <td>-0.106378</td>\n",
       "    </tr>\n",
       "    <tr>\n",
       "      <th>Price</th>\n",
       "      <td>-0.444951</td>\n",
       "      <td>0.584848</td>\n",
       "      <td>-0.056698</td>\n",
       "      <td>0.044537</td>\n",
       "      <td>-0.012144</td>\n",
       "      <td>1.000000</td>\n",
       "      <td>-0.102177</td>\n",
       "      <td>0.011747</td>\n",
       "    </tr>\n",
       "    <tr>\n",
       "      <th>Age</th>\n",
       "      <td>-0.231815</td>\n",
       "      <td>-0.100239</td>\n",
       "      <td>-0.004670</td>\n",
       "      <td>-0.004557</td>\n",
       "      <td>-0.042663</td>\n",
       "      <td>-0.102177</td>\n",
       "      <td>1.000000</td>\n",
       "      <td>0.006488</td>\n",
       "    </tr>\n",
       "    <tr>\n",
       "      <th>Education</th>\n",
       "      <td>-0.051955</td>\n",
       "      <td>0.025197</td>\n",
       "      <td>-0.056855</td>\n",
       "      <td>-0.033594</td>\n",
       "      <td>-0.106378</td>\n",
       "      <td>0.011747</td>\n",
       "      <td>0.006488</td>\n",
       "      <td>1.000000</td>\n",
       "    </tr>\n",
       "  </tbody>\n",
       "</table>\n",
       "</div>"
      ],
      "text/plain": [
       "                Sales  CompPrice    Income  Advertising  Population     Price  \\\n",
       "Sales        1.000000   0.064079  0.151951     0.269507    0.050471 -0.444951   \n",
       "CompPrice    0.064079   1.000000 -0.080653    -0.024199   -0.094707  0.584848   \n",
       "Income       0.151951  -0.080653  1.000000     0.058995   -0.007877 -0.056698   \n",
       "Advertising  0.269507  -0.024199  0.058995     1.000000    0.265652  0.044537   \n",
       "Population   0.050471  -0.094707 -0.007877     0.265652    1.000000 -0.012144   \n",
       "Price       -0.444951   0.584848 -0.056698     0.044537   -0.012144  1.000000   \n",
       "Age         -0.231815  -0.100239 -0.004670    -0.004557   -0.042663 -0.102177   \n",
       "Education   -0.051955   0.025197 -0.056855    -0.033594   -0.106378  0.011747   \n",
       "\n",
       "                  Age  Education  \n",
       "Sales       -0.231815  -0.051955  \n",
       "CompPrice   -0.100239   0.025197  \n",
       "Income      -0.004670  -0.056855  \n",
       "Advertising -0.004557  -0.033594  \n",
       "Population  -0.042663  -0.106378  \n",
       "Price       -0.102177   0.011747  \n",
       "Age          1.000000   0.006488  \n",
       "Education    0.006488   1.000000  "
      ]
     },
     "execution_count": 7,
     "metadata": {},
     "output_type": "execute_result"
    }
   ],
   "source": [
    "df.corr()"
   ]
  },
  {
   "cell_type": "code",
   "execution_count": 8,
   "id": "5fcfcb69",
   "metadata": {
    "ExecuteTime": {
     "end_time": "2023-05-07T14:50:52.378058Z",
     "start_time": "2023-05-07T14:50:52.253288Z"
    }
   },
   "outputs": [],
   "source": [
    "from sklearn.preprocessing import LabelEncoder,OrdinalEncoder"
   ]
  },
  {
   "cell_type": "code",
   "execution_count": 9,
   "id": "468b6654",
   "metadata": {
    "ExecuteTime": {
     "end_time": "2023-05-07T14:50:52.560816Z",
     "start_time": "2023-05-07T14:50:52.393621Z"
    }
   },
   "outputs": [
    {
     "data": {
      "text/html": [
       "<div>\n",
       "<style scoped>\n",
       "    .dataframe tbody tr th:only-of-type {\n",
       "        vertical-align: middle;\n",
       "    }\n",
       "\n",
       "    .dataframe tbody tr th {\n",
       "        vertical-align: top;\n",
       "    }\n",
       "\n",
       "    .dataframe thead th {\n",
       "        text-align: right;\n",
       "    }\n",
       "</style>\n",
       "<table border=\"1\" class=\"dataframe\">\n",
       "  <thead>\n",
       "    <tr style=\"text-align: right;\">\n",
       "      <th></th>\n",
       "      <th>Sales</th>\n",
       "      <th>CompPrice</th>\n",
       "      <th>Income</th>\n",
       "      <th>Advertising</th>\n",
       "      <th>Population</th>\n",
       "      <th>Price</th>\n",
       "      <th>ShelveLoc</th>\n",
       "      <th>Age</th>\n",
       "      <th>Education</th>\n",
       "      <th>Urban</th>\n",
       "      <th>US</th>\n",
       "    </tr>\n",
       "  </thead>\n",
       "  <tbody>\n",
       "    <tr>\n",
       "      <th>0</th>\n",
       "      <td>9.50</td>\n",
       "      <td>138</td>\n",
       "      <td>73</td>\n",
       "      <td>11</td>\n",
       "      <td>276</td>\n",
       "      <td>120</td>\n",
       "      <td>0.0</td>\n",
       "      <td>42</td>\n",
       "      <td>17</td>\n",
       "      <td>1.0</td>\n",
       "      <td>1.0</td>\n",
       "    </tr>\n",
       "    <tr>\n",
       "      <th>1</th>\n",
       "      <td>11.22</td>\n",
       "      <td>111</td>\n",
       "      <td>48</td>\n",
       "      <td>16</td>\n",
       "      <td>260</td>\n",
       "      <td>83</td>\n",
       "      <td>1.0</td>\n",
       "      <td>65</td>\n",
       "      <td>10</td>\n",
       "      <td>1.0</td>\n",
       "      <td>1.0</td>\n",
       "    </tr>\n",
       "    <tr>\n",
       "      <th>2</th>\n",
       "      <td>10.06</td>\n",
       "      <td>113</td>\n",
       "      <td>35</td>\n",
       "      <td>10</td>\n",
       "      <td>269</td>\n",
       "      <td>80</td>\n",
       "      <td>2.0</td>\n",
       "      <td>59</td>\n",
       "      <td>12</td>\n",
       "      <td>1.0</td>\n",
       "      <td>1.0</td>\n",
       "    </tr>\n",
       "    <tr>\n",
       "      <th>3</th>\n",
       "      <td>7.40</td>\n",
       "      <td>117</td>\n",
       "      <td>100</td>\n",
       "      <td>4</td>\n",
       "      <td>466</td>\n",
       "      <td>97</td>\n",
       "      <td>2.0</td>\n",
       "      <td>55</td>\n",
       "      <td>14</td>\n",
       "      <td>1.0</td>\n",
       "      <td>1.0</td>\n",
       "    </tr>\n",
       "    <tr>\n",
       "      <th>4</th>\n",
       "      <td>4.15</td>\n",
       "      <td>141</td>\n",
       "      <td>64</td>\n",
       "      <td>3</td>\n",
       "      <td>340</td>\n",
       "      <td>128</td>\n",
       "      <td>0.0</td>\n",
       "      <td>38</td>\n",
       "      <td>13</td>\n",
       "      <td>1.0</td>\n",
       "      <td>0.0</td>\n",
       "    </tr>\n",
       "    <tr>\n",
       "      <th>...</th>\n",
       "      <td>...</td>\n",
       "      <td>...</td>\n",
       "      <td>...</td>\n",
       "      <td>...</td>\n",
       "      <td>...</td>\n",
       "      <td>...</td>\n",
       "      <td>...</td>\n",
       "      <td>...</td>\n",
       "      <td>...</td>\n",
       "      <td>...</td>\n",
       "      <td>...</td>\n",
       "    </tr>\n",
       "    <tr>\n",
       "      <th>395</th>\n",
       "      <td>12.57</td>\n",
       "      <td>138</td>\n",
       "      <td>108</td>\n",
       "      <td>17</td>\n",
       "      <td>203</td>\n",
       "      <td>128</td>\n",
       "      <td>1.0</td>\n",
       "      <td>33</td>\n",
       "      <td>14</td>\n",
       "      <td>1.0</td>\n",
       "      <td>1.0</td>\n",
       "    </tr>\n",
       "    <tr>\n",
       "      <th>396</th>\n",
       "      <td>6.14</td>\n",
       "      <td>139</td>\n",
       "      <td>23</td>\n",
       "      <td>3</td>\n",
       "      <td>37</td>\n",
       "      <td>120</td>\n",
       "      <td>2.0</td>\n",
       "      <td>55</td>\n",
       "      <td>11</td>\n",
       "      <td>0.0</td>\n",
       "      <td>1.0</td>\n",
       "    </tr>\n",
       "    <tr>\n",
       "      <th>397</th>\n",
       "      <td>7.41</td>\n",
       "      <td>162</td>\n",
       "      <td>26</td>\n",
       "      <td>12</td>\n",
       "      <td>368</td>\n",
       "      <td>159</td>\n",
       "      <td>2.0</td>\n",
       "      <td>40</td>\n",
       "      <td>18</td>\n",
       "      <td>1.0</td>\n",
       "      <td>1.0</td>\n",
       "    </tr>\n",
       "    <tr>\n",
       "      <th>398</th>\n",
       "      <td>5.94</td>\n",
       "      <td>100</td>\n",
       "      <td>79</td>\n",
       "      <td>7</td>\n",
       "      <td>284</td>\n",
       "      <td>95</td>\n",
       "      <td>0.0</td>\n",
       "      <td>50</td>\n",
       "      <td>12</td>\n",
       "      <td>1.0</td>\n",
       "      <td>1.0</td>\n",
       "    </tr>\n",
       "    <tr>\n",
       "      <th>399</th>\n",
       "      <td>9.71</td>\n",
       "      <td>134</td>\n",
       "      <td>37</td>\n",
       "      <td>0</td>\n",
       "      <td>27</td>\n",
       "      <td>120</td>\n",
       "      <td>1.0</td>\n",
       "      <td>49</td>\n",
       "      <td>16</td>\n",
       "      <td>1.0</td>\n",
       "      <td>1.0</td>\n",
       "    </tr>\n",
       "  </tbody>\n",
       "</table>\n",
       "<p>400 rows × 11 columns</p>\n",
       "</div>"
      ],
      "text/plain": [
       "     Sales  CompPrice  Income  Advertising  Population  Price  ShelveLoc  Age  \\\n",
       "0     9.50        138      73           11         276    120        0.0   42   \n",
       "1    11.22        111      48           16         260     83        1.0   65   \n",
       "2    10.06        113      35           10         269     80        2.0   59   \n",
       "3     7.40        117     100            4         466     97        2.0   55   \n",
       "4     4.15        141      64            3         340    128        0.0   38   \n",
       "..     ...        ...     ...          ...         ...    ...        ...  ...   \n",
       "395  12.57        138     108           17         203    128        1.0   33   \n",
       "396   6.14        139      23            3          37    120        2.0   55   \n",
       "397   7.41        162      26           12         368    159        2.0   40   \n",
       "398   5.94        100      79            7         284     95        0.0   50   \n",
       "399   9.71        134      37            0          27    120        1.0   49   \n",
       "\n",
       "     Education  Urban   US  \n",
       "0           17    1.0  1.0  \n",
       "1           10    1.0  1.0  \n",
       "2           12    1.0  1.0  \n",
       "3           14    1.0  1.0  \n",
       "4           13    1.0  0.0  \n",
       "..         ...    ...  ...  \n",
       "395         14    1.0  1.0  \n",
       "396         11    0.0  1.0  \n",
       "397         18    1.0  1.0  \n",
       "398         12    1.0  1.0  \n",
       "399         16    1.0  1.0  \n",
       "\n",
       "[400 rows x 11 columns]"
      ]
     },
     "execution_count": 9,
     "metadata": {},
     "output_type": "execute_result"
    }
   ],
   "source": [
    "oe=OrdinalEncoder()\n",
    "col_sel=df.select_dtypes(include='object').columns\n",
    "df[col_sel]=oe.fit_transform(df[col_sel])\n",
    "df"
   ]
  },
  {
   "cell_type": "code",
   "execution_count": 10,
   "id": "61a23cf2",
   "metadata": {
    "ExecuteTime": {
     "end_time": "2023-05-07T14:50:52.654598Z",
     "start_time": "2023-05-07T14:50:52.560816Z"
    }
   },
   "outputs": [],
   "source": [
    "# oe=OrdinalEncoder()\n",
    "# col_sel=df.select_dtypes(include='object')\n",
    "# oe_col=oe.fit_transform(col_sel)\n",
    "# oe_col=pd.DataFrame(oe_col)\n",
    "# oe_col"
   ]
  },
  {
   "cell_type": "code",
   "execution_count": 11,
   "id": "aebaee49",
   "metadata": {
    "ExecuteTime": {
     "end_time": "2023-05-07T14:50:52.779610Z",
     "start_time": "2023-05-07T14:50:52.654598Z"
    }
   },
   "outputs": [],
   "source": [
    "# df['ShelveLoc']=oe_col[0]\n",
    "# df['Urban']=oe_col[1]\n",
    "# df['US']=oe_col[2]\n",
    "# df"
   ]
  },
  {
   "cell_type": "code",
   "execution_count": 12,
   "id": "b525c40a",
   "metadata": {
    "ExecuteTime": {
     "end_time": "2023-05-07T14:50:52.896087Z",
     "start_time": "2023-05-07T14:50:52.789625Z"
    }
   },
   "outputs": [
    {
     "name": "stdout",
     "output_type": "stream",
     "text": [
      "<class 'pandas.core.frame.DataFrame'>\n",
      "RangeIndex: 400 entries, 0 to 399\n",
      "Data columns (total 11 columns):\n",
      " #   Column       Non-Null Count  Dtype  \n",
      "---  ------       --------------  -----  \n",
      " 0   Sales        400 non-null    float64\n",
      " 1   CompPrice    400 non-null    int64  \n",
      " 2   Income       400 non-null    int64  \n",
      " 3   Advertising  400 non-null    int64  \n",
      " 4   Population   400 non-null    int64  \n",
      " 5   Price        400 non-null    int64  \n",
      " 6   ShelveLoc    400 non-null    float64\n",
      " 7   Age          400 non-null    int64  \n",
      " 8   Education    400 non-null    int64  \n",
      " 9   Urban        400 non-null    float64\n",
      " 10  US           400 non-null    float64\n",
      "dtypes: float64(4), int64(7)\n",
      "memory usage: 34.5 KB\n"
     ]
    }
   ],
   "source": [
    "df.info()"
   ]
  },
  {
   "cell_type": "markdown",
   "id": "99ea2724",
   "metadata": {},
   "source": [
    "##### Target column is sale according to problem statem(we will first convert it in categorical variable)"
   ]
  },
  {
   "cell_type": "code",
   "execution_count": 13,
   "id": "1eee9093",
   "metadata": {
    "ExecuteTime": {
     "end_time": "2023-05-07T14:50:53.037160Z",
     "start_time": "2023-05-07T14:50:52.902060Z"
    }
   },
   "outputs": [
    {
     "data": {
      "text/html": [
       "<div>\n",
       "<style scoped>\n",
       "    .dataframe tbody tr th:only-of-type {\n",
       "        vertical-align: middle;\n",
       "    }\n",
       "\n",
       "    .dataframe tbody tr th {\n",
       "        vertical-align: top;\n",
       "    }\n",
       "\n",
       "    .dataframe thead th {\n",
       "        text-align: right;\n",
       "    }\n",
       "</style>\n",
       "<table border=\"1\" class=\"dataframe\">\n",
       "  <thead>\n",
       "    <tr style=\"text-align: right;\">\n",
       "      <th></th>\n",
       "      <th>Sales</th>\n",
       "      <th>CompPrice</th>\n",
       "      <th>Income</th>\n",
       "      <th>Advertising</th>\n",
       "      <th>Population</th>\n",
       "      <th>Price</th>\n",
       "      <th>ShelveLoc</th>\n",
       "      <th>Age</th>\n",
       "      <th>Education</th>\n",
       "      <th>Urban</th>\n",
       "      <th>US</th>\n",
       "    </tr>\n",
       "  </thead>\n",
       "  <tbody>\n",
       "    <tr>\n",
       "      <th>Sales</th>\n",
       "      <td>1.000000</td>\n",
       "      <td>0.064079</td>\n",
       "      <td>0.151951</td>\n",
       "      <td>0.269507</td>\n",
       "      <td>0.050471</td>\n",
       "      <td>-0.444951</td>\n",
       "      <td>0.157470</td>\n",
       "      <td>-0.231815</td>\n",
       "      <td>-0.051955</td>\n",
       "      <td>-0.015419</td>\n",
       "      <td>0.177093</td>\n",
       "    </tr>\n",
       "    <tr>\n",
       "      <th>CompPrice</th>\n",
       "      <td>0.064079</td>\n",
       "      <td>1.000000</td>\n",
       "      <td>-0.080653</td>\n",
       "      <td>-0.024199</td>\n",
       "      <td>-0.094707</td>\n",
       "      <td>0.584848</td>\n",
       "      <td>0.023350</td>\n",
       "      <td>-0.100239</td>\n",
       "      <td>0.025197</td>\n",
       "      <td>0.066594</td>\n",
       "      <td>0.016869</td>\n",
       "    </tr>\n",
       "    <tr>\n",
       "      <th>Income</th>\n",
       "      <td>0.151951</td>\n",
       "      <td>-0.080653</td>\n",
       "      <td>1.000000</td>\n",
       "      <td>0.058995</td>\n",
       "      <td>-0.007877</td>\n",
       "      <td>-0.056698</td>\n",
       "      <td>-0.067678</td>\n",
       "      <td>-0.004670</td>\n",
       "      <td>-0.056855</td>\n",
       "      <td>0.037967</td>\n",
       "      <td>0.089601</td>\n",
       "    </tr>\n",
       "    <tr>\n",
       "      <th>Advertising</th>\n",
       "      <td>0.269507</td>\n",
       "      <td>-0.024199</td>\n",
       "      <td>0.058995</td>\n",
       "      <td>1.000000</td>\n",
       "      <td>0.265652</td>\n",
       "      <td>0.044537</td>\n",
       "      <td>0.008544</td>\n",
       "      <td>-0.004557</td>\n",
       "      <td>-0.033594</td>\n",
       "      <td>0.042035</td>\n",
       "      <td>0.684460</td>\n",
       "    </tr>\n",
       "    <tr>\n",
       "      <th>Population</th>\n",
       "      <td>0.050471</td>\n",
       "      <td>-0.094707</td>\n",
       "      <td>-0.007877</td>\n",
       "      <td>0.265652</td>\n",
       "      <td>1.000000</td>\n",
       "      <td>-0.012144</td>\n",
       "      <td>-0.044772</td>\n",
       "      <td>-0.042663</td>\n",
       "      <td>-0.106378</td>\n",
       "      <td>-0.052025</td>\n",
       "      <td>0.060564</td>\n",
       "    </tr>\n",
       "    <tr>\n",
       "      <th>Price</th>\n",
       "      <td>-0.444951</td>\n",
       "      <td>0.584848</td>\n",
       "      <td>-0.056698</td>\n",
       "      <td>0.044537</td>\n",
       "      <td>-0.012144</td>\n",
       "      <td>1.000000</td>\n",
       "      <td>0.014633</td>\n",
       "      <td>-0.102177</td>\n",
       "      <td>0.011747</td>\n",
       "      <td>0.047016</td>\n",
       "      <td>0.057861</td>\n",
       "    </tr>\n",
       "    <tr>\n",
       "      <th>ShelveLoc</th>\n",
       "      <td>0.157470</td>\n",
       "      <td>0.023350</td>\n",
       "      <td>-0.067678</td>\n",
       "      <td>0.008544</td>\n",
       "      <td>-0.044772</td>\n",
       "      <td>0.014633</td>\n",
       "      <td>1.000000</td>\n",
       "      <td>0.056488</td>\n",
       "      <td>0.001492</td>\n",
       "      <td>-0.063978</td>\n",
       "      <td>-0.039760</td>\n",
       "    </tr>\n",
       "    <tr>\n",
       "      <th>Age</th>\n",
       "      <td>-0.231815</td>\n",
       "      <td>-0.100239</td>\n",
       "      <td>-0.004670</td>\n",
       "      <td>-0.004557</td>\n",
       "      <td>-0.042663</td>\n",
       "      <td>-0.102177</td>\n",
       "      <td>0.056488</td>\n",
       "      <td>1.000000</td>\n",
       "      <td>0.006488</td>\n",
       "      <td>0.028479</td>\n",
       "      <td>0.008652</td>\n",
       "    </tr>\n",
       "    <tr>\n",
       "      <th>Education</th>\n",
       "      <td>-0.051955</td>\n",
       "      <td>0.025197</td>\n",
       "      <td>-0.056855</td>\n",
       "      <td>-0.033594</td>\n",
       "      <td>-0.106378</td>\n",
       "      <td>0.011747</td>\n",
       "      <td>0.001492</td>\n",
       "      <td>0.006488</td>\n",
       "      <td>1.000000</td>\n",
       "      <td>-0.033094</td>\n",
       "      <td>-0.078250</td>\n",
       "    </tr>\n",
       "    <tr>\n",
       "      <th>Urban</th>\n",
       "      <td>-0.015419</td>\n",
       "      <td>0.066594</td>\n",
       "      <td>0.037967</td>\n",
       "      <td>0.042035</td>\n",
       "      <td>-0.052025</td>\n",
       "      <td>0.047016</td>\n",
       "      <td>-0.063978</td>\n",
       "      <td>0.028479</td>\n",
       "      <td>-0.033094</td>\n",
       "      <td>1.000000</td>\n",
       "      <td>0.047085</td>\n",
       "    </tr>\n",
       "    <tr>\n",
       "      <th>US</th>\n",
       "      <td>0.177093</td>\n",
       "      <td>0.016869</td>\n",
       "      <td>0.089601</td>\n",
       "      <td>0.684460</td>\n",
       "      <td>0.060564</td>\n",
       "      <td>0.057861</td>\n",
       "      <td>-0.039760</td>\n",
       "      <td>0.008652</td>\n",
       "      <td>-0.078250</td>\n",
       "      <td>0.047085</td>\n",
       "      <td>1.000000</td>\n",
       "    </tr>\n",
       "  </tbody>\n",
       "</table>\n",
       "</div>"
      ],
      "text/plain": [
       "                Sales  CompPrice    Income  Advertising  Population     Price  \\\n",
       "Sales        1.000000   0.064079  0.151951     0.269507    0.050471 -0.444951   \n",
       "CompPrice    0.064079   1.000000 -0.080653    -0.024199   -0.094707  0.584848   \n",
       "Income       0.151951  -0.080653  1.000000     0.058995   -0.007877 -0.056698   \n",
       "Advertising  0.269507  -0.024199  0.058995     1.000000    0.265652  0.044537   \n",
       "Population   0.050471  -0.094707 -0.007877     0.265652    1.000000 -0.012144   \n",
       "Price       -0.444951   0.584848 -0.056698     0.044537   -0.012144  1.000000   \n",
       "ShelveLoc    0.157470   0.023350 -0.067678     0.008544   -0.044772  0.014633   \n",
       "Age         -0.231815  -0.100239 -0.004670    -0.004557   -0.042663 -0.102177   \n",
       "Education   -0.051955   0.025197 -0.056855    -0.033594   -0.106378  0.011747   \n",
       "Urban       -0.015419   0.066594  0.037967     0.042035   -0.052025  0.047016   \n",
       "US           0.177093   0.016869  0.089601     0.684460    0.060564  0.057861   \n",
       "\n",
       "             ShelveLoc       Age  Education     Urban        US  \n",
       "Sales         0.157470 -0.231815  -0.051955 -0.015419  0.177093  \n",
       "CompPrice     0.023350 -0.100239   0.025197  0.066594  0.016869  \n",
       "Income       -0.067678 -0.004670  -0.056855  0.037967  0.089601  \n",
       "Advertising   0.008544 -0.004557  -0.033594  0.042035  0.684460  \n",
       "Population   -0.044772 -0.042663  -0.106378 -0.052025  0.060564  \n",
       "Price         0.014633 -0.102177   0.011747  0.047016  0.057861  \n",
       "ShelveLoc     1.000000  0.056488   0.001492 -0.063978 -0.039760  \n",
       "Age           0.056488  1.000000   0.006488  0.028479  0.008652  \n",
       "Education     0.001492  0.006488   1.000000 -0.033094 -0.078250  \n",
       "Urban        -0.063978  0.028479  -0.033094  1.000000  0.047085  \n",
       "US           -0.039760  0.008652  -0.078250  0.047085  1.000000  "
      ]
     },
     "execution_count": 13,
     "metadata": {},
     "output_type": "execute_result"
    }
   ],
   "source": [
    "df.corr()"
   ]
  },
  {
   "cell_type": "code",
   "execution_count": 14,
   "id": "04d984df",
   "metadata": {
    "ExecuteTime": {
     "end_time": "2023-05-07T14:50:54.457675Z",
     "start_time": "2023-05-07T14:50:53.037160Z"
    }
   },
   "outputs": [
    {
     "data": {
      "text/plain": [
       "<AxesSubplot:>"
      ]
     },
     "execution_count": 14,
     "metadata": {},
     "output_type": "execute_result"
    },
    {
     "data": {
      "image/png": "[encoded data removed]",
      "text/plain": [
       "<Figure size 1000x500 with 2 Axes>"
      ]
     },
     "metadata": {},
     "output_type": "display_data"
    }
   ],
   "source": [
    "\n",
    "plt.rcParams['figure.figsize']=(10,5)\n",
    "sns.heatmap(df.corr(),annot=True)"
   ]
  },
  {
   "cell_type": "code",
   "execution_count": 15,
   "id": "4dbb5d4d",
   "metadata": {
    "ExecuteTime": {
     "end_time": "2023-05-07T14:50:54.477965Z",
     "start_time": "2023-05-07T14:50:54.462339Z"
    }
   },
   "outputs": [],
   "source": [
    "df[\"sales\"]=\"Bad\"\n",
    "df.loc[df[\"Sales\"]>7.49,\"sales\"]=\"Good\"\n",
    "df.drop([\"Sales\"],axis=1,inplace=True)\n"
   ]
  },
  {
   "cell_type": "code",
   "execution_count": 16,
   "id": "ccbc26c3",
   "metadata": {
    "ExecuteTime": {
     "end_time": "2023-05-07T14:50:54.665627Z",
     "start_time": "2023-05-07T14:50:54.477965Z"
    }
   },
   "outputs": [
    {
     "data": {
      "text/html": [
       "<div>\n",
       "<style scoped>\n",
       "    .dataframe tbody tr th:only-of-type {\n",
       "        vertical-align: middle;\n",
       "    }\n",
       "\n",
       "    .dataframe tbody tr th {\n",
       "        vertical-align: top;\n",
       "    }\n",
       "\n",
       "    .dataframe thead th {\n",
       "        text-align: right;\n",
       "    }\n",
       "</style>\n",
       "<table border=\"1\" class=\"dataframe\">\n",
       "  <thead>\n",
       "    <tr style=\"text-align: right;\">\n",
       "      <th></th>\n",
       "      <th>CompPrice</th>\n",
       "      <th>Income</th>\n",
       "      <th>Advertising</th>\n",
       "      <th>Population</th>\n",
       "      <th>Price</th>\n",
       "      <th>ShelveLoc</th>\n",
       "      <th>Age</th>\n",
       "      <th>Education</th>\n",
       "      <th>Urban</th>\n",
       "      <th>US</th>\n",
       "      <th>sales</th>\n",
       "    </tr>\n",
       "  </thead>\n",
       "  <tbody>\n",
       "    <tr>\n",
       "      <th>0</th>\n",
       "      <td>138</td>\n",
       "      <td>73</td>\n",
       "      <td>11</td>\n",
       "      <td>276</td>\n",
       "      <td>120</td>\n",
       "      <td>0.0</td>\n",
       "      <td>42</td>\n",
       "      <td>17</td>\n",
       "      <td>1.0</td>\n",
       "      <td>1.0</td>\n",
       "      <td>Good</td>\n",
       "    </tr>\n",
       "    <tr>\n",
       "      <th>1</th>\n",
       "      <td>111</td>\n",
       "      <td>48</td>\n",
       "      <td>16</td>\n",
       "      <td>260</td>\n",
       "      <td>83</td>\n",
       "      <td>1.0</td>\n",
       "      <td>65</td>\n",
       "      <td>10</td>\n",
       "      <td>1.0</td>\n",
       "      <td>1.0</td>\n",
       "      <td>Good</td>\n",
       "    </tr>\n",
       "    <tr>\n",
       "      <th>2</th>\n",
       "      <td>113</td>\n",
       "      <td>35</td>\n",
       "      <td>10</td>\n",
       "      <td>269</td>\n",
       "      <td>80</td>\n",
       "      <td>2.0</td>\n",
       "      <td>59</td>\n",
       "      <td>12</td>\n",
       "      <td>1.0</td>\n",
       "      <td>1.0</td>\n",
       "      <td>Good</td>\n",
       "    </tr>\n",
       "    <tr>\n",
       "      <th>3</th>\n",
       "      <td>117</td>\n",
       "      <td>100</td>\n",
       "      <td>4</td>\n",
       "      <td>466</td>\n",
       "      <td>97</td>\n",
       "      <td>2.0</td>\n",
       "      <td>55</td>\n",
       "      <td>14</td>\n",
       "      <td>1.0</td>\n",
       "      <td>1.0</td>\n",
       "      <td>Bad</td>\n",
       "    </tr>\n",
       "    <tr>\n",
       "      <th>4</th>\n",
       "      <td>141</td>\n",
       "      <td>64</td>\n",
       "      <td>3</td>\n",
       "      <td>340</td>\n",
       "      <td>128</td>\n",
       "      <td>0.0</td>\n",
       "      <td>38</td>\n",
       "      <td>13</td>\n",
       "      <td>1.0</td>\n",
       "      <td>0.0</td>\n",
       "      <td>Bad</td>\n",
       "    </tr>\n",
       "    <tr>\n",
       "      <th>...</th>\n",
       "      <td>...</td>\n",
       "      <td>...</td>\n",
       "      <td>...</td>\n",
       "      <td>...</td>\n",
       "      <td>...</td>\n",
       "      <td>...</td>\n",
       "      <td>...</td>\n",
       "      <td>...</td>\n",
       "      <td>...</td>\n",
       "      <td>...</td>\n",
       "      <td>...</td>\n",
       "    </tr>\n",
       "    <tr>\n",
       "      <th>395</th>\n",
       "      <td>138</td>\n",
       "      <td>108</td>\n",
       "      <td>17</td>\n",
       "      <td>203</td>\n",
       "      <td>128</td>\n",
       "      <td>1.0</td>\n",
       "      <td>33</td>\n",
       "      <td>14</td>\n",
       "      <td>1.0</td>\n",
       "      <td>1.0</td>\n",
       "      <td>Good</td>\n",
       "    </tr>\n",
       "    <tr>\n",
       "      <th>396</th>\n",
       "      <td>139</td>\n",
       "      <td>23</td>\n",
       "      <td>3</td>\n",
       "      <td>37</td>\n",
       "      <td>120</td>\n",
       "      <td>2.0</td>\n",
       "      <td>55</td>\n",
       "      <td>11</td>\n",
       "      <td>0.0</td>\n",
       "      <td>1.0</td>\n",
       "      <td>Bad</td>\n",
       "    </tr>\n",
       "    <tr>\n",
       "      <th>397</th>\n",
       "      <td>162</td>\n",
       "      <td>26</td>\n",
       "      <td>12</td>\n",
       "      <td>368</td>\n",
       "      <td>159</td>\n",
       "      <td>2.0</td>\n",
       "      <td>40</td>\n",
       "      <td>18</td>\n",
       "      <td>1.0</td>\n",
       "      <td>1.0</td>\n",
       "      <td>Bad</td>\n",
       "    </tr>\n",
       "    <tr>\n",
       "      <th>398</th>\n",
       "      <td>100</td>\n",
       "      <td>79</td>\n",
       "      <td>7</td>\n",
       "      <td>284</td>\n",
       "      <td>95</td>\n",
       "      <td>0.0</td>\n",
       "      <td>50</td>\n",
       "      <td>12</td>\n",
       "      <td>1.0</td>\n",
       "      <td>1.0</td>\n",
       "      <td>Bad</td>\n",
       "    </tr>\n",
       "    <tr>\n",
       "      <th>399</th>\n",
       "      <td>134</td>\n",
       "      <td>37</td>\n",
       "      <td>0</td>\n",
       "      <td>27</td>\n",
       "      <td>120</td>\n",
       "      <td>1.0</td>\n",
       "      <td>49</td>\n",
       "      <td>16</td>\n",
       "      <td>1.0</td>\n",
       "      <td>1.0</td>\n",
       "      <td>Good</td>\n",
       "    </tr>\n",
       "  </tbody>\n",
       "</table>\n",
       "<p>400 rows × 11 columns</p>\n",
       "</div>"
      ],
      "text/plain": [
       "     CompPrice  Income  Advertising  Population  Price  ShelveLoc  Age  \\\n",
       "0          138      73           11         276    120        0.0   42   \n",
       "1          111      48           16         260     83        1.0   65   \n",
       "2          113      35           10         269     80        2.0   59   \n",
       "3          117     100            4         466     97        2.0   55   \n",
       "4          141      64            3         340    128        0.0   38   \n",
       "..         ...     ...          ...         ...    ...        ...  ...   \n",
       "395        138     108           17         203    128        1.0   33   \n",
       "396        139      23            3          37    120        2.0   55   \n",
       "397        162      26           12         368    159        2.0   40   \n",
       "398        100      79            7         284     95        0.0   50   \n",
       "399        134      37            0          27    120        1.0   49   \n",
       "\n",
       "     Education  Urban   US sales  \n",
       "0           17    1.0  1.0  Good  \n",
       "1           10    1.0  1.0  Good  \n",
       "2           12    1.0  1.0  Good  \n",
       "3           14    1.0  1.0   Bad  \n",
       "4           13    1.0  0.0   Bad  \n",
       "..         ...    ...  ...   ...  \n",
       "395         14    1.0  1.0  Good  \n",
       "396         11    0.0  1.0   Bad  \n",
       "397         18    1.0  1.0   Bad  \n",
       "398         12    1.0  1.0   Bad  \n",
       "399         16    1.0  1.0  Good  \n",
       "\n",
       "[400 rows x 11 columns]"
      ]
     },
     "execution_count": 16,
     "metadata": {},
     "output_type": "execute_result"
    }
   ],
   "source": [
    "df"
   ]
  },
  {
   "cell_type": "code",
   "execution_count": 17,
   "id": "f9cb937b",
   "metadata": {
    "ExecuteTime": {
     "end_time": "2023-05-07T14:50:54.799301Z",
     "start_time": "2023-05-07T14:50:54.671600Z"
    }
   },
   "outputs": [
    {
     "data": {
      "text/html": [
       "<div>\n",
       "<style scoped>\n",
       "    .dataframe tbody tr th:only-of-type {\n",
       "        vertical-align: middle;\n",
       "    }\n",
       "\n",
       "    .dataframe tbody tr th {\n",
       "        vertical-align: top;\n",
       "    }\n",
       "\n",
       "    .dataframe thead th {\n",
       "        text-align: right;\n",
       "    }\n",
       "</style>\n",
       "<table border=\"1\" class=\"dataframe\">\n",
       "  <thead>\n",
       "    <tr style=\"text-align: right;\">\n",
       "      <th></th>\n",
       "      <th>CompPrice</th>\n",
       "      <th>Income</th>\n",
       "      <th>Advertising</th>\n",
       "      <th>Population</th>\n",
       "      <th>Price</th>\n",
       "      <th>ShelveLoc</th>\n",
       "      <th>Age</th>\n",
       "      <th>Education</th>\n",
       "      <th>Urban</th>\n",
       "      <th>US</th>\n",
       "    </tr>\n",
       "  </thead>\n",
       "  <tbody>\n",
       "    <tr>\n",
       "      <th>0</th>\n",
       "      <td>138</td>\n",
       "      <td>73</td>\n",
       "      <td>11</td>\n",
       "      <td>276</td>\n",
       "      <td>120</td>\n",
       "      <td>0.0</td>\n",
       "      <td>42</td>\n",
       "      <td>17</td>\n",
       "      <td>1.0</td>\n",
       "      <td>1.0</td>\n",
       "    </tr>\n",
       "    <tr>\n",
       "      <th>1</th>\n",
       "      <td>111</td>\n",
       "      <td>48</td>\n",
       "      <td>16</td>\n",
       "      <td>260</td>\n",
       "      <td>83</td>\n",
       "      <td>1.0</td>\n",
       "      <td>65</td>\n",
       "      <td>10</td>\n",
       "      <td>1.0</td>\n",
       "      <td>1.0</td>\n",
       "    </tr>\n",
       "    <tr>\n",
       "      <th>2</th>\n",
       "      <td>113</td>\n",
       "      <td>35</td>\n",
       "      <td>10</td>\n",
       "      <td>269</td>\n",
       "      <td>80</td>\n",
       "      <td>2.0</td>\n",
       "      <td>59</td>\n",
       "      <td>12</td>\n",
       "      <td>1.0</td>\n",
       "      <td>1.0</td>\n",
       "    </tr>\n",
       "    <tr>\n",
       "      <th>3</th>\n",
       "      <td>117</td>\n",
       "      <td>100</td>\n",
       "      <td>4</td>\n",
       "      <td>466</td>\n",
       "      <td>97</td>\n",
       "      <td>2.0</td>\n",
       "      <td>55</td>\n",
       "      <td>14</td>\n",
       "      <td>1.0</td>\n",
       "      <td>1.0</td>\n",
       "    </tr>\n",
       "    <tr>\n",
       "      <th>4</th>\n",
       "      <td>141</td>\n",
       "      <td>64</td>\n",
       "      <td>3</td>\n",
       "      <td>340</td>\n",
       "      <td>128</td>\n",
       "      <td>0.0</td>\n",
       "      <td>38</td>\n",
       "      <td>13</td>\n",
       "      <td>1.0</td>\n",
       "      <td>0.0</td>\n",
       "    </tr>\n",
       "    <tr>\n",
       "      <th>...</th>\n",
       "      <td>...</td>\n",
       "      <td>...</td>\n",
       "      <td>...</td>\n",
       "      <td>...</td>\n",
       "      <td>...</td>\n",
       "      <td>...</td>\n",
       "      <td>...</td>\n",
       "      <td>...</td>\n",
       "      <td>...</td>\n",
       "      <td>...</td>\n",
       "    </tr>\n",
       "    <tr>\n",
       "      <th>395</th>\n",
       "      <td>138</td>\n",
       "      <td>108</td>\n",
       "      <td>17</td>\n",
       "      <td>203</td>\n",
       "      <td>128</td>\n",
       "      <td>1.0</td>\n",
       "      <td>33</td>\n",
       "      <td>14</td>\n",
       "      <td>1.0</td>\n",
       "      <td>1.0</td>\n",
       "    </tr>\n",
       "    <tr>\n",
       "      <th>396</th>\n",
       "      <td>139</td>\n",
       "      <td>23</td>\n",
       "      <td>3</td>\n",
       "      <td>37</td>\n",
       "      <td>120</td>\n",
       "      <td>2.0</td>\n",
       "      <td>55</td>\n",
       "      <td>11</td>\n",
       "      <td>0.0</td>\n",
       "      <td>1.0</td>\n",
       "    </tr>\n",
       "    <tr>\n",
       "      <th>397</th>\n",
       "      <td>162</td>\n",
       "      <td>26</td>\n",
       "      <td>12</td>\n",
       "      <td>368</td>\n",
       "      <td>159</td>\n",
       "      <td>2.0</td>\n",
       "      <td>40</td>\n",
       "      <td>18</td>\n",
       "      <td>1.0</td>\n",
       "      <td>1.0</td>\n",
       "    </tr>\n",
       "    <tr>\n",
       "      <th>398</th>\n",
       "      <td>100</td>\n",
       "      <td>79</td>\n",
       "      <td>7</td>\n",
       "      <td>284</td>\n",
       "      <td>95</td>\n",
       "      <td>0.0</td>\n",
       "      <td>50</td>\n",
       "      <td>12</td>\n",
       "      <td>1.0</td>\n",
       "      <td>1.0</td>\n",
       "    </tr>\n",
       "    <tr>\n",
       "      <th>399</th>\n",
       "      <td>134</td>\n",
       "      <td>37</td>\n",
       "      <td>0</td>\n",
       "      <td>27</td>\n",
       "      <td>120</td>\n",
       "      <td>1.0</td>\n",
       "      <td>49</td>\n",
       "      <td>16</td>\n",
       "      <td>1.0</td>\n",
       "      <td>1.0</td>\n",
       "    </tr>\n",
       "  </tbody>\n",
       "</table>\n",
       "<p>400 rows × 10 columns</p>\n",
       "</div>"
      ],
      "text/plain": [
       "     CompPrice  Income  Advertising  Population  Price  ShelveLoc  Age  \\\n",
       "0          138      73           11         276    120        0.0   42   \n",
       "1          111      48           16         260     83        1.0   65   \n",
       "2          113      35           10         269     80        2.0   59   \n",
       "3          117     100            4         466     97        2.0   55   \n",
       "4          141      64            3         340    128        0.0   38   \n",
       "..         ...     ...          ...         ...    ...        ...  ...   \n",
       "395        138     108           17         203    128        1.0   33   \n",
       "396        139      23            3          37    120        2.0   55   \n",
       "397        162      26           12         368    159        2.0   40   \n",
       "398        100      79            7         284     95        0.0   50   \n",
       "399        134      37            0          27    120        1.0   49   \n",
       "\n",
       "     Education  Urban   US  \n",
       "0           17    1.0  1.0  \n",
       "1           10    1.0  1.0  \n",
       "2           12    1.0  1.0  \n",
       "3           14    1.0  1.0  \n",
       "4           13    1.0  0.0  \n",
       "..         ...    ...  ...  \n",
       "395         14    1.0  1.0  \n",
       "396         11    0.0  1.0  \n",
       "397         18    1.0  1.0  \n",
       "398         12    1.0  1.0  \n",
       "399         16    1.0  1.0  \n",
       "\n",
       "[400 rows x 10 columns]"
      ]
     },
     "execution_count": 17,
     "metadata": {},
     "output_type": "execute_result"
    }
   ],
   "source": [
    "x=df.iloc[:,0:10]\n",
    "y=df.loc[:,'sales']\n",
    "x"
   ]
  },
  {
   "cell_type": "code",
   "execution_count": 18,
   "id": "a519baaa",
   "metadata": {
    "ExecuteTime": {
     "end_time": "2023-05-07T14:50:54.841571Z",
     "start_time": "2023-05-07T14:50:54.808287Z"
    }
   },
   "outputs": [],
   "source": [
    "xtrain,xtest,ytrain,ytest=train_test_split(x,y,train_size=0.7,random_state=2)"
   ]
  },
  {
   "cell_type": "code",
   "execution_count": 19,
   "id": "70847459",
   "metadata": {
    "ExecuteTime": {
     "end_time": "2023-05-07T14:50:54.968845Z",
     "start_time": "2023-05-07T14:50:54.845457Z"
    }
   },
   "outputs": [],
   "source": [
    "dt=DecisionTreeClassifier()\n",
    "dt.fit(xtrain,ytrain)\n",
    "ypred=dt.predict(xtest)\n"
   ]
  },
  {
   "cell_type": "code",
   "execution_count": 20,
   "id": "21b24dd9",
   "metadata": {
    "ExecuteTime": {
     "end_time": "2023-05-07T14:50:55.076635Z",
     "start_time": "2023-05-07T14:50:54.978159Z"
    },
    "scrolled": true
   },
   "outputs": [
    {
     "name": "stdout",
     "output_type": "stream",
     "text": [
      "              precision    recall  f1-score   support\n",
      "\n",
      "         Bad       0.72      0.67      0.69        64\n",
      "        Good       0.65      0.70      0.67        56\n",
      "\n",
      "    accuracy                           0.68       120\n",
      "   macro avg       0.68      0.68      0.68       120\n",
      "weighted avg       0.69      0.68      0.68       120\n",
      "\n"
     ]
    }
   ],
   "source": [
    "print(classification_report(ytest,ypred))"
   ]
  },
  {
   "cell_type": "code",
   "execution_count": 21,
   "id": "c1a301da",
   "metadata": {
    "ExecuteTime": {
     "end_time": "2023-05-07T14:50:55.207231Z",
     "start_time": "2023-05-07T14:50:55.194142Z"
    }
   },
   "outputs": [
    {
     "data": {
      "text/plain": [
       "array([[43, 21],\n",
       "       [17, 39]], dtype=int64)"
      ]
     },
     "execution_count": 21,
     "metadata": {},
     "output_type": "execute_result"
    }
   ],
   "source": [
    "confusion_matrix(ytest,ypred)"
   ]
  },
  {
   "cell_type": "code",
   "execution_count": 22,
   "id": "60f9d544",
   "metadata": {
    "ExecuteTime": {
     "end_time": "2023-05-07T14:50:55.331564Z",
     "start_time": "2023-05-07T14:50:55.213229Z"
    }
   },
   "outputs": [
    {
     "data": {
      "text/plain": [
       "(1.0, 0.6833333333333333)"
      ]
     },
     "execution_count": 22,
     "metadata": {},
     "output_type": "execute_result"
    }
   ],
   "source": [
    "dt.score(xtrain,ytrain),dt.score(xtest,ytest)"
   ]
  },
  {
   "cell_type": "code",
   "execution_count": 23,
   "id": "78a4ccf4",
   "metadata": {
    "ExecuteTime": {
     "end_time": "2023-05-07T14:50:55.437711Z",
     "start_time": "2023-05-07T14:50:55.342554Z"
    }
   },
   "outputs": [
    {
     "data": {
      "text/plain": [
       "array([0.13294865, 0.05138196, 0.13720091, 0.11462877, 0.30587658,\n",
       "       0.0386287 , 0.16441125, 0.04420397, 0.        , 0.01071921])"
      ]
     },
     "execution_count": 23,
     "metadata": {},
     "output_type": "execute_result"
    }
   ],
   "source": [
    "dt.feature_importances_"
   ]
  },
  {
   "cell_type": "code",
   "execution_count": 24,
   "id": "2215a5d7",
   "metadata": {
    "ExecuteTime": {
     "end_time": "2023-05-07T14:50:55.594606Z",
     "start_time": "2023-05-07T14:50:55.449706Z"
    }
   },
   "outputs": [
    {
     "data": {
      "text/html": [
       "<div>\n",
       "<style scoped>\n",
       "    .dataframe tbody tr th:only-of-type {\n",
       "        vertical-align: middle;\n",
       "    }\n",
       "\n",
       "    .dataframe tbody tr th {\n",
       "        vertical-align: top;\n",
       "    }\n",
       "\n",
       "    .dataframe thead th {\n",
       "        text-align: right;\n",
       "    }\n",
       "</style>\n",
       "<table border=\"1\" class=\"dataframe\">\n",
       "  <thead>\n",
       "    <tr style=\"text-align: right;\">\n",
       "      <th></th>\n",
       "      <th>features</th>\n",
       "      <th>IG</th>\n",
       "    </tr>\n",
       "  </thead>\n",
       "  <tbody>\n",
       "    <tr>\n",
       "      <th>4</th>\n",
       "      <td>Price</td>\n",
       "      <td>0.305877</td>\n",
       "    </tr>\n",
       "    <tr>\n",
       "      <th>6</th>\n",
       "      <td>Age</td>\n",
       "      <td>0.164411</td>\n",
       "    </tr>\n",
       "    <tr>\n",
       "      <th>2</th>\n",
       "      <td>Advertising</td>\n",
       "      <td>0.137201</td>\n",
       "    </tr>\n",
       "    <tr>\n",
       "      <th>0</th>\n",
       "      <td>CompPrice</td>\n",
       "      <td>0.132949</td>\n",
       "    </tr>\n",
       "    <tr>\n",
       "      <th>3</th>\n",
       "      <td>Population</td>\n",
       "      <td>0.114629</td>\n",
       "    </tr>\n",
       "    <tr>\n",
       "      <th>1</th>\n",
       "      <td>Income</td>\n",
       "      <td>0.051382</td>\n",
       "    </tr>\n",
       "    <tr>\n",
       "      <th>7</th>\n",
       "      <td>Education</td>\n",
       "      <td>0.044204</td>\n",
       "    </tr>\n",
       "    <tr>\n",
       "      <th>5</th>\n",
       "      <td>ShelveLoc</td>\n",
       "      <td>0.038629</td>\n",
       "    </tr>\n",
       "    <tr>\n",
       "      <th>9</th>\n",
       "      <td>US</td>\n",
       "      <td>0.010719</td>\n",
       "    </tr>\n",
       "    <tr>\n",
       "      <th>8</th>\n",
       "      <td>Urban</td>\n",
       "      <td>0.000000</td>\n",
       "    </tr>\n",
       "  </tbody>\n",
       "</table>\n",
       "</div>"
      ],
      "text/plain": [
       "      features        IG\n",
       "4        Price  0.305877\n",
       "6          Age  0.164411\n",
       "2  Advertising  0.137201\n",
       "0    CompPrice  0.132949\n",
       "3   Population  0.114629\n",
       "1       Income  0.051382\n",
       "7    Education  0.044204\n",
       "5    ShelveLoc  0.038629\n",
       "9           US  0.010719\n",
       "8        Urban  0.000000"
      ]
     },
     "execution_count": 24,
     "metadata": {},
     "output_type": "execute_result"
    }
   ],
   "source": [
    "pd.DataFrame({'features':xtrain.columns,\n",
    "              'IG':dt.feature_importances_\n",
    "             }).sort_values(by='IG',ascending=False)"
   ]
  },
  {
   "cell_type": "markdown",
   "id": "c6c9203b",
   "metadata": {},
   "source": [
    "## Hyperparameter"
   ]
  },
  {
   "cell_type": "code",
   "execution_count": 25,
   "id": "018ead86",
   "metadata": {
    "ExecuteTime": {
     "end_time": "2023-05-07T14:50:55.660926Z",
     "start_time": "2023-05-07T14:50:55.601344Z"
    }
   },
   "outputs": [],
   "source": [
    "\n",
    "params = {\n",
    "    'criterion' : ['gini','entropy'],\n",
    "    'splitter' : ['best','random'],\n",
    "    'max_depth' : [2,3,4,6,9,12,16],\n",
    "    'min_samples_split':[2,4,5,6,8,10]\n",
    "    }"
   ]
  },
  {
   "cell_type": "code",
   "execution_count": 26,
   "id": "8551749e",
   "metadata": {
    "ExecuteTime": {
     "end_time": "2023-05-07T14:50:55.761562Z",
     "start_time": "2023-05-07T14:50:55.660926Z"
    }
   },
   "outputs": [],
   "source": [
    "from sklearn.model_selection import GridSearchCV"
   ]
  },
  {
   "cell_type": "code",
   "execution_count": 27,
   "id": "25892083",
   "metadata": {
    "ExecuteTime": {
     "end_time": "2023-05-07T14:50:55.887121Z",
     "start_time": "2023-05-07T14:50:55.762068Z"
    }
   },
   "outputs": [],
   "source": [
    "grid = GridSearchCV(DecisionTreeClassifier(), param_grid=params, verbose=-1)"
   ]
  },
  {
   "cell_type": "code",
   "execution_count": 28,
   "id": "2f8e3c7d",
   "metadata": {
    "ExecuteTime": {
     "end_time": "2023-05-07T14:51:02.596837Z",
     "start_time": "2023-05-07T14:50:55.887121Z"
    }
   },
   "outputs": [
    {
     "data": {
      "text/plain": [
       "GridSearchCV(estimator=DecisionTreeClassifier(),\n",
       "             param_grid={'criterion': ['gini', 'entropy'],\n",
       "                         'max_depth': [2, 3, 4, 6, 9, 12, 16],\n",
       "                         'min_samples_split': [2, 4, 5, 6, 8, 10],\n",
       "                         'splitter': ['best', 'random']},\n",
       "             verbose=-1)"
      ]
     },
     "execution_count": 28,
     "metadata": {},
     "output_type": "execute_result"
    }
   ],
   "source": [
    "grid.fit(xtrain,ytrain)"
   ]
  },
  {
   "cell_type": "code",
   "execution_count": 29,
   "id": "c35ff1b5",
   "metadata": {
    "ExecuteTime": {
     "end_time": "2023-05-07T14:51:02.613836Z",
     "start_time": "2023-05-07T14:51:02.601834Z"
    }
   },
   "outputs": [
    {
     "data": {
      "text/plain": [
       "{'criterion': 'entropy',\n",
       " 'max_depth': 9,\n",
       " 'min_samples_split': 8,\n",
       " 'splitter': 'random'}"
      ]
     },
     "execution_count": 29,
     "metadata": {},
     "output_type": "execute_result"
    }
   ],
   "source": [
    "grid.best_params_"
   ]
  },
  {
   "cell_type": "code",
   "execution_count": 38,
   "id": "40d6541a",
   "metadata": {
    "ExecuteTime": {
     "end_time": "2023-05-07T14:52:07.517504Z",
     "start_time": "2023-05-07T14:52:07.511507Z"
    }
   },
   "outputs": [],
   "source": [
    "dt1=DecisionTreeClassifier(criterion='entropy',max_depth=9,splitter='random',min_samples_split=8)"
   ]
  },
  {
   "cell_type": "code",
   "execution_count": 39,
   "id": "a74152a0",
   "metadata": {
    "ExecuteTime": {
     "end_time": "2023-05-07T14:52:07.931359Z",
     "start_time": "2023-05-07T14:52:07.914424Z"
    }
   },
   "outputs": [],
   "source": [
    "dt1.fit(xtrain,ytrain)\n",
    "ypred=dt1.predict(xtest)\n"
   ]
  },
  {
   "cell_type": "code",
   "execution_count": 40,
   "id": "44b1f7bf",
   "metadata": {
    "ExecuteTime": {
     "end_time": "2023-05-07T14:52:08.464729Z",
     "start_time": "2023-05-07T14:52:08.439232Z"
    }
   },
   "outputs": [
    {
     "name": "stdout",
     "output_type": "stream",
     "text": [
      "              precision    recall  f1-score   support\n",
      "\n",
      "         Bad       0.78      0.83      0.80        64\n",
      "        Good       0.79      0.73      0.76        56\n",
      "\n",
      "    accuracy                           0.78       120\n",
      "   macro avg       0.78      0.78      0.78       120\n",
      "weighted avg       0.78      0.78      0.78       120\n",
      "\n"
     ]
    }
   ],
   "source": [
    "print(classification_report(ytest,ypred))"
   ]
  },
  {
   "cell_type": "code",
   "execution_count": 41,
   "id": "3d78e4f1",
   "metadata": {
    "ExecuteTime": {
     "end_time": "2023-05-07T14:52:16.487094Z",
     "start_time": "2023-05-07T14:52:16.466106Z"
    }
   },
   "outputs": [
    {
     "data": {
      "text/plain": [
       "(0.9107142857142857, 0.7833333333333333)"
      ]
     },
     "execution_count": 41,
     "metadata": {},
     "output_type": "execute_result"
    }
   ],
   "source": [
    "dt1.score(xtrain,ytrain),dt1.score(xtest,ytest)"
   ]
  },
  {
   "cell_type": "code",
   "execution_count": 42,
   "id": "6f25b2af",
   "metadata": {
    "ExecuteTime": {
     "end_time": "2023-05-07T14:52:16.947976Z",
     "start_time": "2023-05-07T14:52:16.916030Z"
    }
   },
   "outputs": [
    {
     "data": {
      "text/plain": [
       "array([0.12939844, 0.05152059, 0.0563706 , 0.05169091, 0.22518831,\n",
       "       0.22457145, 0.10834694, 0.05037917, 0.02495269, 0.07758089])"
      ]
     },
     "execution_count": 42,
     "metadata": {},
     "output_type": "execute_result"
    }
   ],
   "source": [
    "dt1.feature_importances_"
   ]
  },
  {
   "cell_type": "code",
   "execution_count": 43,
   "id": "1e98819d",
   "metadata": {
    "ExecuteTime": {
     "end_time": "2023-05-07T14:52:18.920146Z",
     "start_time": "2023-05-07T14:52:18.897158Z"
    }
   },
   "outputs": [
    {
     "data": {
      "text/html": [
       "<div>\n",
       "<style scoped>\n",
       "    .dataframe tbody tr th:only-of-type {\n",
       "        vertical-align: middle;\n",
       "    }\n",
       "\n",
       "    .dataframe tbody tr th {\n",
       "        vertical-align: top;\n",
       "    }\n",
       "\n",
       "    .dataframe thead th {\n",
       "        text-align: right;\n",
       "    }\n",
       "</style>\n",
       "<table border=\"1\" class=\"dataframe\">\n",
       "  <thead>\n",
       "    <tr style=\"text-align: right;\">\n",
       "      <th></th>\n",
       "      <th>features</th>\n",
       "      <th>IG</th>\n",
       "    </tr>\n",
       "  </thead>\n",
       "  <tbody>\n",
       "    <tr>\n",
       "      <th>4</th>\n",
       "      <td>Price</td>\n",
       "      <td>0.225188</td>\n",
       "    </tr>\n",
       "    <tr>\n",
       "      <th>5</th>\n",
       "      <td>ShelveLoc</td>\n",
       "      <td>0.224571</td>\n",
       "    </tr>\n",
       "    <tr>\n",
       "      <th>0</th>\n",
       "      <td>CompPrice</td>\n",
       "      <td>0.129398</td>\n",
       "    </tr>\n",
       "    <tr>\n",
       "      <th>6</th>\n",
       "      <td>Age</td>\n",
       "      <td>0.108347</td>\n",
       "    </tr>\n",
       "    <tr>\n",
       "      <th>9</th>\n",
       "      <td>US</td>\n",
       "      <td>0.077581</td>\n",
       "    </tr>\n",
       "    <tr>\n",
       "      <th>2</th>\n",
       "      <td>Advertising</td>\n",
       "      <td>0.056371</td>\n",
       "    </tr>\n",
       "    <tr>\n",
       "      <th>3</th>\n",
       "      <td>Population</td>\n",
       "      <td>0.051691</td>\n",
       "    </tr>\n",
       "    <tr>\n",
       "      <th>1</th>\n",
       "      <td>Income</td>\n",
       "      <td>0.051521</td>\n",
       "    </tr>\n",
       "    <tr>\n",
       "      <th>7</th>\n",
       "      <td>Education</td>\n",
       "      <td>0.050379</td>\n",
       "    </tr>\n",
       "    <tr>\n",
       "      <th>8</th>\n",
       "      <td>Urban</td>\n",
       "      <td>0.024953</td>\n",
       "    </tr>\n",
       "  </tbody>\n",
       "</table>\n",
       "</div>"
      ],
      "text/plain": [
       "      features        IG\n",
       "4        Price  0.225188\n",
       "5    ShelveLoc  0.224571\n",
       "0    CompPrice  0.129398\n",
       "6          Age  0.108347\n",
       "9           US  0.077581\n",
       "2  Advertising  0.056371\n",
       "3   Population  0.051691\n",
       "1       Income  0.051521\n",
       "7    Education  0.050379\n",
       "8        Urban  0.024953"
      ]
     },
     "execution_count": 43,
     "metadata": {},
     "output_type": "execute_result"
    }
   ],
   "source": [
    "pd.DataFrame({'features':xtrain.columns,\n",
    "              'IG':dt1.feature_importances_\n",
    "             }).sort_values(by='IG',ascending=False)"
   ]
  },
  {
   "cell_type": "code",
   "execution_count": 36,
   "id": "4f776c78",
   "metadata": {
    "ExecuteTime": {
     "end_time": "2023-05-07T14:51:03.575901Z",
     "start_time": "2023-05-07T14:51:03.483197Z"
    }
   },
   "outputs": [],
   "source": [
    "from sklearn import tree"
   ]
  },
  {
   "cell_type": "code",
   "execution_count": 37,
   "id": "f78adeb1",
   "metadata": {
    "ExecuteTime": {
     "end_time": "2023-05-07T14:51:14.674756Z",
     "start_time": "2023-05-07T14:51:03.575901Z"
    }
   },
   "outputs": [
    {
     "data": {
      "text/plain": [
       "[Text(0.5954724409448819, 0.9642857142857143, 'Price <= 139.03\\nentropy = 1.0\\nsamples = 280\\nvalue = [137, 143]\\nclass = Bad'),\n",
       " Text(0.26968503937007876, 0.8928571428571429, 'ShelveLoc <= 0.301\\nentropy = 0.988\\nsamples = 243\\nvalue = [106, 137]\\nclass = Bad'),\n",
       " Text(0.08267716535433071, 0.8214285714285714, 'Price <= 82.167\\nentropy = 0.887\\nsamples = 59\\nvalue = [41, 18]\\nclass = Good'),\n",
       " Text(0.031496062992125984, 0.75, 'Income <= 52.663\\nentropy = 0.592\\nsamples = 7\\nvalue = [1, 6]\\nclass = Bad'),\n",
       " Text(0.015748031496062992, 0.6785714285714286, 'entropy = 0.0\\nsamples = 1\\nvalue = [1, 0]\\nclass = Good'),\n",
       " Text(0.047244094488188976, 0.6785714285714286, 'entropy = 0.0\\nsamples = 6\\nvalue = [0, 6]\\nclass = Bad'),\n",
       " Text(0.13385826771653545, 0.75, 'Age <= 46.93\\nentropy = 0.779\\nsamples = 52\\nvalue = [40, 12]\\nclass = Good'),\n",
       " Text(0.07874015748031496, 0.6785714285714286, 'Price <= 125.203\\nentropy = 0.998\\nsamples = 21\\nvalue = [11, 10]\\nclass = Good'),\n",
       " Text(0.047244094488188976, 0.6071428571428571, 'US <= 0.897\\nentropy = 0.89\\nsamples = 13\\nvalue = [4, 9]\\nclass = Bad'),\n",
       " Text(0.031496062992125984, 0.5357142857142857, 'Urban <= 0.361\\nentropy = 0.918\\nsamples = 6\\nvalue = [4, 2]\\nclass = Good'),\n",
       " Text(0.015748031496062992, 0.4642857142857143, 'entropy = 0.0\\nsamples = 3\\nvalue = [3, 0]\\nclass = Good'),\n",
       " Text(0.047244094488188976, 0.4642857142857143, 'entropy = 0.918\\nsamples = 3\\nvalue = [1, 2]\\nclass = Bad'),\n",
       " Text(0.06299212598425197, 0.5357142857142857, 'entropy = 0.0\\nsamples = 7\\nvalue = [0, 7]\\nclass = Bad'),\n",
       " Text(0.11023622047244094, 0.6071428571428571, 'CompPrice <= 141.753\\nentropy = 0.544\\nsamples = 8\\nvalue = [7, 1]\\nclass = Good'),\n",
       " Text(0.09448818897637795, 0.5357142857142857, 'entropy = 0.0\\nsamples = 6\\nvalue = [6, 0]\\nclass = Good'),\n",
       " Text(0.12598425196850394, 0.5357142857142857, 'entropy = 1.0\\nsamples = 2\\nvalue = [1, 1]\\nclass = Good'),\n",
       " Text(0.1889763779527559, 0.6785714285714286, 'Education <= 12.037\\nentropy = 0.345\\nsamples = 31\\nvalue = [29, 2]\\nclass = Good'),\n",
       " Text(0.1732283464566929, 0.6071428571428571, 'Price <= 101.092\\nentropy = 0.619\\nsamples = 13\\nvalue = [11, 2]\\nclass = Good'),\n",
       " Text(0.15748031496062992, 0.5357142857142857, 'Advertising <= 5.021\\nentropy = 0.971\\nsamples = 5\\nvalue = [3, 2]\\nclass = Good'),\n",
       " Text(0.14173228346456693, 0.4642857142857143, 'entropy = 0.0\\nsamples = 2\\nvalue = [0, 2]\\nclass = Bad'),\n",
       " Text(0.1732283464566929, 0.4642857142857143, 'entropy = 0.0\\nsamples = 3\\nvalue = [3, 0]\\nclass = Good'),\n",
       " Text(0.1889763779527559, 0.5357142857142857, 'entropy = 0.0\\nsamples = 8\\nvalue = [8, 0]\\nclass = Good'),\n",
       " Text(0.2047244094488189, 0.6071428571428571, 'entropy = 0.0\\nsamples = 18\\nvalue = [18, 0]\\nclass = Good'),\n",
       " Text(0.4566929133858268, 0.8214285714285714, 'ShelveLoc <= 1.651\\nentropy = 0.937\\nsamples = 184\\nvalue = [65, 119]\\nclass = Bad'),\n",
       " Text(0.28346456692913385, 0.75, 'Income <= 32.359\\nentropy = 0.397\\nsamples = 51\\nvalue = [4, 47]\\nclass = Bad'),\n",
       " Text(0.25196850393700787, 0.6785714285714286, 'Advertising <= 10.154\\nentropy = 0.971\\nsamples = 5\\nvalue = [2, 3]\\nclass = Bad'),\n",
       " Text(0.23622047244094488, 0.6071428571428571, 'entropy = 0.918\\nsamples = 3\\nvalue = [2, 1]\\nclass = Good'),\n",
       " Text(0.2677165354330709, 0.6071428571428571, 'entropy = 0.0\\nsamples = 2\\nvalue = [0, 2]\\nclass = Bad'),\n",
       " Text(0.31496062992125984, 0.6785714285714286, 'CompPrice <= 132.53\\nentropy = 0.258\\nsamples = 46\\nvalue = [2, 44]\\nclass = Bad'),\n",
       " Text(0.2992125984251969, 0.6071428571428571, 'Education <= 14.99\\nentropy = 0.323\\nsamples = 34\\nvalue = [2, 32]\\nclass = Bad'),\n",
       " Text(0.28346456692913385, 0.5357142857142857, 'CompPrice <= 116.736\\nentropy = 0.503\\nsamples = 18\\nvalue = [2, 16]\\nclass = Bad'),\n",
       " Text(0.2677165354330709, 0.4642857142857143, 'Education <= 13.135\\nentropy = 0.811\\nsamples = 8\\nvalue = [2, 6]\\nclass = Bad'),\n",
       " Text(0.25196850393700787, 0.39285714285714285, 'CompPrice <= 115.959\\nentropy = 0.592\\nsamples = 7\\nvalue = [1, 6]\\nclass = Bad'),\n",
       " Text(0.23622047244094488, 0.32142857142857145, 'entropy = 0.0\\nsamples = 5\\nvalue = [0, 5]\\nclass = Bad'),\n",
       " Text(0.2677165354330709, 0.32142857142857145, 'entropy = 1.0\\nsamples = 2\\nvalue = [1, 1]\\nclass = Good'),\n",
       " Text(0.28346456692913385, 0.39285714285714285, 'entropy = 0.0\\nsamples = 1\\nvalue = [1, 0]\\nclass = Good'),\n",
       " Text(0.2992125984251969, 0.4642857142857143, 'entropy = 0.0\\nsamples = 10\\nvalue = [0, 10]\\nclass = Bad'),\n",
       " Text(0.31496062992125984, 0.5357142857142857, 'entropy = 0.0\\nsamples = 16\\nvalue = [0, 16]\\nclass = Bad'),\n",
       " Text(0.33070866141732286, 0.6071428571428571, 'entropy = 0.0\\nsamples = 12\\nvalue = [0, 12]\\nclass = Bad'),\n",
       " Text(0.6299212598425197, 0.75, 'Advertising <= 3.091\\nentropy = 0.995\\nsamples = 133\\nvalue = [61, 72]\\nclass = Bad'),\n",
       " Text(0.4881889763779528, 0.6785714285714286, 'CompPrice <= 90.451\\nentropy = 0.963\\nsamples = 62\\nvalue = [38, 24]\\nclass = Good'),\n",
       " Text(0.47244094488188976, 0.6071428571428571, 'entropy = 0.0\\nsamples = 2\\nvalue = [0, 2]\\nclass = Bad'),\n",
       " Text(0.5039370078740157, 0.6071428571428571, 'CompPrice <= 137.298\\nentropy = 0.948\\nsamples = 60\\nvalue = [38, 22]\\nclass = Good'),\n",
       " Text(0.4251968503937008, 0.5357142857142857, 'Price <= 107.267\\nentropy = 0.89\\nsamples = 52\\nvalue = [36, 16]\\nclass = Good'),\n",
       " Text(0.3464566929133858, 0.4642857142857143, 'Income <= 70.119\\nentropy = 0.995\\nsamples = 24\\nvalue = [13, 11]\\nclass = Good'),\n",
       " Text(0.31496062992125984, 0.39285714285714285, 'Age <= 61.244\\nentropy = 0.764\\nsamples = 9\\nvalue = [7, 2]\\nclass = Good'),\n",
       " Text(0.2992125984251969, 0.32142857142857145, 'entropy = 0.0\\nsamples = 4\\nvalue = [4, 0]\\nclass = Good'),\n",
       " Text(0.33070866141732286, 0.32142857142857145, 'Income <= 22.476\\nentropy = 0.971\\nsamples = 5\\nvalue = [3, 2]\\nclass = Good'),\n",
       " Text(0.31496062992125984, 0.25, 'entropy = 0.0\\nsamples = 2\\nvalue = [2, 0]\\nclass = Good'),\n",
       " Text(0.3464566929133858, 0.25, 'entropy = 0.918\\nsamples = 3\\nvalue = [1, 2]\\nclass = Bad'),\n",
       " Text(0.3779527559055118, 0.39285714285714285, 'Price <= 86.975\\nentropy = 0.971\\nsamples = 15\\nvalue = [6, 9]\\nclass = Bad'),\n",
       " Text(0.36220472440944884, 0.32142857142857145, 'entropy = 0.0\\nsamples = 6\\nvalue = [0, 6]\\nclass = Bad'),\n",
       " Text(0.3937007874015748, 0.32142857142857145, 'US <= 0.943\\nentropy = 0.918\\nsamples = 9\\nvalue = [6, 3]\\nclass = Good'),\n",
       " Text(0.3779527559055118, 0.25, 'entropy = 0.0\\nsamples = 5\\nvalue = [5, 0]\\nclass = Good'),\n",
       " Text(0.4094488188976378, 0.25, 'Education <= 14.896\\nentropy = 0.811\\nsamples = 4\\nvalue = [1, 3]\\nclass = Bad'),\n",
       " Text(0.3937007874015748, 0.17857142857142858, 'entropy = 0.0\\nsamples = 3\\nvalue = [0, 3]\\nclass = Bad'),\n",
       " Text(0.4251968503937008, 0.17857142857142858, 'entropy = 0.0\\nsamples = 1\\nvalue = [1, 0]\\nclass = Good'),\n",
       " Text(0.5039370078740157, 0.4642857142857143, 'Age <= 69.066\\nentropy = 0.677\\nsamples = 28\\nvalue = [23, 5]\\nclass = Good'),\n",
       " Text(0.4881889763779528, 0.39285714285714285, 'CompPrice <= 121.997\\nentropy = 0.896\\nsamples = 16\\nvalue = [11, 5]\\nclass = Good'),\n",
       " Text(0.47244094488188976, 0.32142857142857145, 'entropy = 0.0\\nsamples = 5\\nvalue = [5, 0]\\nclass = Good'),\n",
       " Text(0.5039370078740157, 0.32142857142857145, 'Income <= 91.96\\nentropy = 0.994\\nsamples = 11\\nvalue = [6, 5]\\nclass = Good'),\n",
       " Text(0.47244094488188976, 0.25, 'Population <= 480.577\\nentropy = 0.863\\nsamples = 7\\nvalue = [5, 2]\\nclass = Good'),\n",
       " Text(0.4566929133858268, 0.17857142857142858, 'Population <= 184.64\\nentropy = 0.65\\nsamples = 6\\nvalue = [5, 1]\\nclass = Good'),\n",
       " Text(0.4409448818897638, 0.10714285714285714, 'entropy = 1.0\\nsamples = 2\\nvalue = [1, 1]\\nclass = Good'),\n",
       " Text(0.47244094488188976, 0.10714285714285714, 'entropy = 0.0\\nsamples = 4\\nvalue = [4, 0]\\nclass = Good'),\n",
       " Text(0.4881889763779528, 0.17857142857142858, 'entropy = 0.0\\nsamples = 1\\nvalue = [0, 1]\\nclass = Bad'),\n",
       " Text(0.5354330708661418, 0.25, 'Education <= 16.822\\nentropy = 0.811\\nsamples = 4\\nvalue = [1, 3]\\nclass = Bad'),\n",
       " Text(0.5196850393700787, 0.17857142857142858, 'entropy = 0.0\\nsamples = 3\\nvalue = [0, 3]\\nclass = Bad'),\n",
       " Text(0.5511811023622047, 0.17857142857142858, 'entropy = 0.0\\nsamples = 1\\nvalue = [1, 0]\\nclass = Good'),\n",
       " Text(0.5196850393700787, 0.39285714285714285, 'entropy = 0.0\\nsamples = 12\\nvalue = [12, 0]\\nclass = Good'),\n",
       " Text(0.5826771653543307, 0.5357142857142857, 'CompPrice <= 141.651\\nentropy = 0.811\\nsamples = 8\\nvalue = [2, 6]\\nclass = Bad'),\n",
       " Text(0.5669291338582677, 0.4642857142857143, 'Income <= 26.751\\nentropy = 1.0\\nsamples = 4\\nvalue = [2, 2]\\nclass = Good'),\n",
       " Text(0.5511811023622047, 0.39285714285714285, 'entropy = 0.0\\nsamples = 1\\nvalue = [1, 0]\\nclass = Good'),\n",
       " Text(0.5826771653543307, 0.39285714285714285, 'entropy = 0.918\\nsamples = 3\\nvalue = [1, 2]\\nclass = Bad'),\n",
       " Text(0.5984251968503937, 0.4642857142857143, 'entropy = 0.0\\nsamples = 4\\nvalue = [0, 4]\\nclass = Bad'),\n",
       " Text(0.7716535433070866, 0.6785714285714286, 'CompPrice <= 127.056\\nentropy = 0.909\\nsamples = 71\\nvalue = [23, 48]\\nclass = Bad'),\n",
       " Text(0.7007874015748031, 0.6071428571428571, 'Income <= 102.78\\nentropy = 0.993\\nsamples = 40\\nvalue = [18, 22]\\nclass = Bad'),\n",
       " Text(0.6614173228346457, 0.5357142857142857, 'Price <= 98.969\\nentropy = 0.993\\nsamples = 31\\nvalue = [17, 14]\\nclass = Good'),\n",
       " Text(0.6299212598425197, 0.4642857142857143, 'Urban <= 0.081\\nentropy = 0.764\\nsamples = 9\\nvalue = [2, 7]\\nclass = Bad'),\n",
       " Text(0.6141732283464567, 0.39285714285714285, 'entropy = 0.0\\nsamples = 3\\nvalue = [0, 3]\\nclass = Bad'),\n",
       " Text(0.6456692913385826, 0.39285714285714285, 'CompPrice <= 88.574\\nentropy = 0.918\\nsamples = 6\\nvalue = [2, 4]\\nclass = Bad'),\n",
       " Text(0.6299212598425197, 0.32142857142857145, 'entropy = 0.0\\nsamples = 1\\nvalue = [1, 0]\\nclass = Good'),\n",
       " Text(0.6614173228346457, 0.32142857142857145, 'Price <= 91.517\\nentropy = 0.722\\nsamples = 5\\nvalue = [1, 4]\\nclass = Bad'),\n",
       " Text(0.6456692913385826, 0.25, 'entropy = 0.0\\nsamples = 3\\nvalue = [0, 3]\\nclass = Bad'),\n",
       " Text(0.6771653543307087, 0.25, 'entropy = 1.0\\nsamples = 2\\nvalue = [1, 1]\\nclass = Good'),\n",
       " Text(0.6929133858267716, 0.4642857142857143, 'Age <= 35.63\\nentropy = 0.902\\nsamples = 22\\nvalue = [15, 7]\\nclass = Good'),\n",
       " Text(0.6771653543307087, 0.39285714285714285, 'entropy = 0.0\\nsamples = 4\\nvalue = [0, 4]\\nclass = Bad'),\n",
       " Text(0.7086614173228346, 0.39285714285714285, 'Advertising <= 6.088\\nentropy = 0.65\\nsamples = 18\\nvalue = [15, 3]\\nclass = Good'),\n",
       " Text(0.6929133858267716, 0.32142857142857145, 'entropy = 0.0\\nsamples = 5\\nvalue = [5, 0]\\nclass = Good'),\n",
       " Text(0.7244094488188977, 0.32142857142857145, 'Income <= 50.655\\nentropy = 0.779\\nsamples = 13\\nvalue = [10, 3]\\nclass = Good'),\n",
       " Text(0.7086614173228346, 0.25, 'entropy = 0.0\\nsamples = 7\\nvalue = [7, 0]\\nclass = Good'),\n",
       " Text(0.7401574803149606, 0.25, 'Income <= 66.235\\nentropy = 1.0\\nsamples = 6\\nvalue = [3, 3]\\nclass = Good'),\n",
       " Text(0.7244094488188977, 0.17857142857142858, 'entropy = 0.0\\nsamples = 1\\nvalue = [0, 1]\\nclass = Bad'),\n",
       " Text(0.7559055118110236, 0.17857142857142858, 'Advertising <= 18.606\\nentropy = 0.971\\nsamples = 5\\nvalue = [3, 2]\\nclass = Good'),\n",
       " Text(0.7401574803149606, 0.10714285714285714, 'Price <= 119.165\\nentropy = 0.811\\nsamples = 4\\nvalue = [3, 1]\\nclass = Good'),\n",
       " Text(0.7244094488188977, 0.03571428571428571, 'entropy = 1.0\\nsamples = 2\\nvalue = [1, 1]\\nclass = Good'),\n",
       " Text(0.7559055118110236, 0.03571428571428571, 'entropy = 0.0\\nsamples = 2\\nvalue = [2, 0]\\nclass = Good'),\n",
       " Text(0.7716535433070866, 0.10714285714285714, 'entropy = 0.0\\nsamples = 1\\nvalue = [0, 1]\\nclass = Bad'),\n",
       " Text(0.7401574803149606, 0.5357142857142857, 'Price <= 111.631\\nentropy = 0.503\\nsamples = 9\\nvalue = [1, 8]\\nclass = Bad'),\n",
       " Text(0.7244094488188977, 0.4642857142857143, 'entropy = 0.0\\nsamples = 7\\nvalue = [0, 7]\\nclass = Bad'),\n",
       " Text(0.7559055118110236, 0.4642857142857143, 'entropy = 1.0\\nsamples = 2\\nvalue = [1, 1]\\nclass = Good'),\n",
       " Text(0.84251968503937, 0.6071428571428571, 'Advertising <= 14.212\\nentropy = 0.637\\nsamples = 31\\nvalue = [5, 26]\\nclass = Bad'),\n",
       " Text(0.8267716535433071, 0.5357142857142857, 'Price <= 120.578\\nentropy = 0.755\\nsamples = 23\\nvalue = [5, 18]\\nclass = Bad'),\n",
       " Text(0.7874015748031497, 0.4642857142857143, 'Education <= 15.645\\nentropy = 0.371\\nsamples = 14\\nvalue = [1, 13]\\nclass = Bad'),\n",
       " Text(0.7716535433070866, 0.39285714285714285, 'entropy = 0.0\\nsamples = 12\\nvalue = [0, 12]\\nclass = Bad'),\n",
       " Text(0.8031496062992126, 0.39285714285714285, 'entropy = 1.0\\nsamples = 2\\nvalue = [1, 1]\\nclass = Good'),\n",
       " Text(0.8661417322834646, 0.4642857142857143, 'CompPrice <= 140.992\\nentropy = 0.991\\nsamples = 9\\nvalue = [4, 5]\\nclass = Bad'),\n",
       " Text(0.8346456692913385, 0.39285714285714285, 'Age <= 70.387\\nentropy = 0.811\\nsamples = 4\\nvalue = [3, 1]\\nclass = Good'),\n",
       " Text(0.8188976377952756, 0.32142857142857145, 'entropy = 0.0\\nsamples = 3\\nvalue = [3, 0]\\nclass = Good'),\n",
       " Text(0.8503937007874016, 0.32142857142857145, 'entropy = 0.0\\nsamples = 1\\nvalue = [0, 1]\\nclass = Bad'),\n",
       " Text(0.8976377952755905, 0.39285714285714285, 'Urban <= 0.365\\nentropy = 0.722\\nsamples = 5\\nvalue = [1, 4]\\nclass = Bad'),\n",
       " Text(0.8818897637795275, 0.32142857142857145, 'entropy = 0.0\\nsamples = 1\\nvalue = [1, 0]\\nclass = Good'),\n",
       " Text(0.9133858267716536, 0.32142857142857145, 'entropy = 0.0\\nsamples = 4\\nvalue = [0, 4]\\nclass = Bad'),\n",
       " Text(0.8582677165354331, 0.5357142857142857, 'entropy = 0.0\\nsamples = 8\\nvalue = [0, 8]\\nclass = Bad'),\n",
       " Text(0.9212598425196851, 0.8928571428571429, 'ShelveLoc <= 0.201\\nentropy = 0.639\\nsamples = 37\\nvalue = [31, 6]\\nclass = Good'),\n",
       " Text(0.905511811023622, 0.8214285714285714, 'entropy = 0.0\\nsamples = 8\\nvalue = [8, 0]\\nclass = Good'),\n",
       " Text(0.937007874015748, 0.8214285714285714, 'Income <= 86.019\\nentropy = 0.736\\nsamples = 29\\nvalue = [23, 6]\\nclass = Good'),\n",
       " Text(0.905511811023622, 0.75, 'Urban <= 0.375\\nentropy = 0.286\\nsamples = 20\\nvalue = [19, 1]\\nclass = Good'),\n",
       " Text(0.889763779527559, 0.6785714285714286, 'Education <= 16.752\\nentropy = 0.722\\nsamples = 5\\nvalue = [4, 1]\\nclass = Good'),\n",
       " Text(0.8740157480314961, 0.6071428571428571, 'entropy = 1.0\\nsamples = 2\\nvalue = [1, 1]\\nclass = Good'),\n",
       " Text(0.905511811023622, 0.6071428571428571, 'entropy = 0.0\\nsamples = 3\\nvalue = [3, 0]\\nclass = Good'),\n",
       " Text(0.9212598425196851, 0.6785714285714286, 'entropy = 0.0\\nsamples = 15\\nvalue = [15, 0]\\nclass = Good'),\n",
       " Text(0.968503937007874, 0.75, 'Advertising <= 10.91\\nentropy = 0.991\\nsamples = 9\\nvalue = [4, 5]\\nclass = Bad'),\n",
       " Text(0.952755905511811, 0.6785714285714286, 'Price <= 157.627\\nentropy = 0.863\\nsamples = 7\\nvalue = [2, 5]\\nclass = Bad'),\n",
       " Text(0.937007874015748, 0.6071428571428571, 'Education <= 11.227\\nentropy = 0.65\\nsamples = 6\\nvalue = [1, 5]\\nclass = Bad'),\n",
       " Text(0.9212598425196851, 0.5357142857142857, 'entropy = 1.0\\nsamples = 2\\nvalue = [1, 1]\\nclass = Good'),\n",
       " Text(0.952755905511811, 0.5357142857142857, 'entropy = 0.0\\nsamples = 4\\nvalue = [0, 4]\\nclass = Bad'),\n",
       " Text(0.968503937007874, 0.6071428571428571, 'entropy = 0.0\\nsamples = 1\\nvalue = [1, 0]\\nclass = Good'),\n",
       " Text(0.984251968503937, 0.6785714285714286, 'entropy = 0.0\\nsamples = 2\\nvalue = [2, 0]\\nclass = Good')]"
      ]
     },
     "execution_count": 37,
     "metadata": {},
     "output_type": "execute_result"
    },
    {
     "data": {
      "image/png": "[encoded data removed]",
      "text/plain": [
       "<Figure size 1000x500 with 1 Axes>"
      ]
     },
     "metadata": {},
     "output_type": "display_data"
    }
   ],
   "source": [
    "tree.plot_tree(dt1,feature_names=x.columns, class_names=df['sales'].unique(), filled=True)"
   ]
  },
  {
   "cell_type": "markdown",
   "id": "3ac10c81",
   "metadata": {},
   "source": [
    "##### Price,ShelveLoc,CompPrice,Age column is most important eature to get sale value "
   ]
  },
  {
   "cell_type": "code",
   "execution_count": null,
   "id": "1d6aba5c",
   "metadata": {},
   "outputs": [],
   "source": []
  }
 ],
 "metadata": {
  "kernelspec": {
   "display_name": "Python 3 (ipykernel)",
   "language": "python",
   "name": "python3"
  },
  "language_info": {
   "codemirror_mode": {
    "name": "ipython",
    "version": 3
   },
   "file_extension": ".py",
   "mimetype": "text/x-python",
   "name": "python",
   "nbconvert_exporter": "python",
   "pygments_lexer": "ipython3",
   "version": "3.9.13"
  }
 },
 "nbformat": 4,
 "nbformat_minor": 5
}
